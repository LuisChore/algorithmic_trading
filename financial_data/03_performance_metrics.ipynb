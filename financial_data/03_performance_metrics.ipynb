{
  "nbformat": 4,
  "nbformat_minor": 0,
  "metadata": {
    "colab": {
      "name": "03_performance_metrics.ipynb",
      "provenance": [],
      "toc_visible": true,
      "authorship_tag": "ABX9TyN124A25lrj/GwvXPd/++Xh"
    },
    "kernelspec": {
      "name": "python3",
      "display_name": "Python 3"
    },
    "language_info": {
      "name": "python"
    }
  },
  "cells": [
    {
      "cell_type": "markdown",
      "source": [
        "# Performance Metrics\n",
        "\n",
        "**Higher Risk must be rewarded with higher Returns**"
      ],
      "metadata": {
        "id": "pbUtZDAio0SS"
      }
    },
    {
      "cell_type": "code",
      "source": [
        "!pip install yfinance"
      ],
      "metadata": {
        "id": "ix8tDzy-p1l7"
      },
      "execution_count": null,
      "outputs": []
    },
    {
      "cell_type": "code",
      "execution_count": 59,
      "metadata": {
        "id": "JeaKqYtQoqVq"
      },
      "outputs": [],
      "source": [
        "import pandas as pd\n",
        "import numpy as np \n",
        "import seaborn as sns\n",
        "import yfinance as yf\n",
        "import matplotlib.pyplot as plt \n",
        "pd.options.display.float_format = '{:.4f}'.format \n",
        "plt.style.use('seaborn')"
      ]
    },
    {
      "cell_type": "markdown",
      "source": [
        "## WMT returns "
      ],
      "metadata": {
        "id": "pBw8nftuqidw"
      }
    },
    {
      "cell_type": "code",
      "source": [
        "ticker = \"WMT\"\n",
        "start = '2018-12-01'\n",
        "end = '2021-12-01'\n",
        "wmt = yf.download(ticker,start,end)"
      ],
      "metadata": {
        "id": "zLMDPnJ-qDzN"
      },
      "execution_count": null,
      "outputs": []
    },
    {
      "cell_type": "code",
      "source": [
        "wmt.describe()"
      ],
      "metadata": {
        "colab": {
          "base_uri": "https://localhost:8080/",
          "height": 300
        },
        "id": "lC1f0vLuqza8",
        "outputId": "43f3a15b-300d-479c-80c7-91e1bc8db5e4"
      },
      "execution_count": 61,
      "outputs": [
        {
          "output_type": "execute_result",
          "data": {
            "text/html": [
              "<div>\n",
              "<style scoped>\n",
              "    .dataframe tbody tr th:only-of-type {\n",
              "        vertical-align: middle;\n",
              "    }\n",
              "\n",
              "    .dataframe tbody tr th {\n",
              "        vertical-align: top;\n",
              "    }\n",
              "\n",
              "    .dataframe thead th {\n",
              "        text-align: right;\n",
              "    }\n",
              "</style>\n",
              "<table border=\"1\" class=\"dataframe\">\n",
              "  <thead>\n",
              "    <tr style=\"text-align: right;\">\n",
              "      <th></th>\n",
              "      <th>Open</th>\n",
              "      <th>High</th>\n",
              "      <th>Low</th>\n",
              "      <th>Close</th>\n",
              "      <th>Adj Close</th>\n",
              "      <th>Volume</th>\n",
              "    </tr>\n",
              "  </thead>\n",
              "  <tbody>\n",
              "    <tr>\n",
              "      <th>count</th>\n",
              "      <td>754.0000</td>\n",
              "      <td>754.0000</td>\n",
              "      <td>754.0000</td>\n",
              "      <td>754.0000</td>\n",
              "      <td>754.0000</td>\n",
              "      <td>754.0000</td>\n",
              "    </tr>\n",
              "    <tr>\n",
              "      <th>mean</th>\n",
              "      <td>125.2586</td>\n",
              "      <td>126.3363</td>\n",
              "      <td>124.2537</td>\n",
              "      <td>125.2768</td>\n",
              "      <td>122.2763</td>\n",
              "      <td>7772765.5172</td>\n",
              "    </tr>\n",
              "    <tr>\n",
              "      <th>std</th>\n",
              "      <td>17.2747</td>\n",
              "      <td>17.3300</td>\n",
              "      <td>17.1880</td>\n",
              "      <td>17.2037</td>\n",
              "      <td>18.4129</td>\n",
              "      <td>4146860.2276</td>\n",
              "    </tr>\n",
              "    <tr>\n",
              "      <th>min</th>\n",
              "      <td>86.4200</td>\n",
              "      <td>87.5700</td>\n",
              "      <td>85.7800</td>\n",
              "      <td>85.8200</td>\n",
              "      <td>81.4402</td>\n",
              "      <td>2227400.0000</td>\n",
              "    </tr>\n",
              "    <tr>\n",
              "      <th>25%</th>\n",
              "      <td>113.7150</td>\n",
              "      <td>114.8175</td>\n",
              "      <td>112.2375</td>\n",
              "      <td>113.9050</td>\n",
              "      <td>109.9174</td>\n",
              "      <td>5334200.0000</td>\n",
              "    </tr>\n",
              "    <tr>\n",
              "      <th>50%</th>\n",
              "      <td>124.2900</td>\n",
              "      <td>125.7150</td>\n",
              "      <td>122.9300</td>\n",
              "      <td>123.9500</td>\n",
              "      <td>121.0677</td>\n",
              "      <td>6576900.0000</td>\n",
              "    </tr>\n",
              "    <tr>\n",
              "      <th>75%</th>\n",
              "      <td>141.1175</td>\n",
              "      <td>142.0875</td>\n",
              "      <td>140.1000</td>\n",
              "      <td>140.9900</td>\n",
              "      <td>139.7237</td>\n",
              "      <td>8982125.0000</td>\n",
              "    </tr>\n",
              "    <tr>\n",
              "      <th>max</th>\n",
              "      <td>153.6000</td>\n",
              "      <td>153.6600</td>\n",
              "      <td>151.6600</td>\n",
              "      <td>152.7900</td>\n",
              "      <td>150.8427</td>\n",
              "      <td>39672900.0000</td>\n",
              "    </tr>\n",
              "  </tbody>\n",
              "</table>\n",
              "</div>"
            ],
            "text/plain": [
              "          Open     High      Low    Close  Adj Close        Volume\n",
              "count 754.0000 754.0000 754.0000 754.0000   754.0000      754.0000\n",
              "mean  125.2586 126.3363 124.2537 125.2768   122.2763  7772765.5172\n",
              "std    17.2747  17.3300  17.1880  17.2037    18.4129  4146860.2276\n",
              "min    86.4200  87.5700  85.7800  85.8200    81.4402  2227400.0000\n",
              "25%   113.7150 114.8175 112.2375 113.9050   109.9174  5334200.0000\n",
              "50%   124.2900 125.7150 122.9300 123.9500   121.0677  6576900.0000\n",
              "75%   141.1175 142.0875 140.1000 140.9900   139.7237  8982125.0000\n",
              "max   153.6000 153.6600 151.6600 152.7900   150.8427 39672900.0000"
            ]
          },
          "metadata": {},
          "execution_count": 61
        }
      ]
    },
    {
      "cell_type": "code",
      "source": [
        "wmt.head()"
      ],
      "metadata": {
        "colab": {
          "base_uri": "https://localhost:8080/",
          "height": 238
        },
        "id": "bGWUmvhcqYKd",
        "outputId": "537685a7-5306-458a-9791-1e653e02d296"
      },
      "execution_count": 62,
      "outputs": [
        {
          "output_type": "execute_result",
          "data": {
            "text/html": [
              "<div>\n",
              "<style scoped>\n",
              "    .dataframe tbody tr th:only-of-type {\n",
              "        vertical-align: middle;\n",
              "    }\n",
              "\n",
              "    .dataframe tbody tr th {\n",
              "        vertical-align: top;\n",
              "    }\n",
              "\n",
              "    .dataframe thead th {\n",
              "        text-align: right;\n",
              "    }\n",
              "</style>\n",
              "<table border=\"1\" class=\"dataframe\">\n",
              "  <thead>\n",
              "    <tr style=\"text-align: right;\">\n",
              "      <th></th>\n",
              "      <th>Open</th>\n",
              "      <th>High</th>\n",
              "      <th>Low</th>\n",
              "      <th>Close</th>\n",
              "      <th>Adj Close</th>\n",
              "      <th>Volume</th>\n",
              "    </tr>\n",
              "    <tr>\n",
              "      <th>Date</th>\n",
              "      <th></th>\n",
              "      <th></th>\n",
              "      <th></th>\n",
              "      <th></th>\n",
              "      <th></th>\n",
              "      <th></th>\n",
              "    </tr>\n",
              "  </thead>\n",
              "  <tbody>\n",
              "    <tr>\n",
              "      <th>2018-12-03</th>\n",
              "      <td>98.0200</td>\n",
              "      <td>99.5900</td>\n",
              "      <td>97.6700</td>\n",
              "      <td>98.7500</td>\n",
              "      <td>93.2017</td>\n",
              "      <td>9082100</td>\n",
              "    </tr>\n",
              "    <tr>\n",
              "      <th>2018-12-04</th>\n",
              "      <td>98.2500</td>\n",
              "      <td>98.9600</td>\n",
              "      <td>95.6100</td>\n",
              "      <td>95.8100</td>\n",
              "      <td>90.4269</td>\n",
              "      <td>10426300</td>\n",
              "    </tr>\n",
              "    <tr>\n",
              "      <th>2018-12-06</th>\n",
              "      <td>94.9400</td>\n",
              "      <td>95.4100</td>\n",
              "      <td>93.1000</td>\n",
              "      <td>94.7700</td>\n",
              "      <td>89.9334</td>\n",
              "      <td>10367200</td>\n",
              "    </tr>\n",
              "    <tr>\n",
              "      <th>2018-12-07</th>\n",
              "      <td>94.5000</td>\n",
              "      <td>95.1300</td>\n",
              "      <td>92.4500</td>\n",
              "      <td>93.1900</td>\n",
              "      <td>88.4341</td>\n",
              "      <td>8496500</td>\n",
              "    </tr>\n",
              "    <tr>\n",
              "      <th>2018-12-10</th>\n",
              "      <td>93.5600</td>\n",
              "      <td>94.2500</td>\n",
              "      <td>92.3400</td>\n",
              "      <td>93.9400</td>\n",
              "      <td>89.1458</td>\n",
              "      <td>7276900</td>\n",
              "    </tr>\n",
              "  </tbody>\n",
              "</table>\n",
              "</div>"
            ],
            "text/plain": [
              "              Open    High     Low   Close  Adj Close    Volume\n",
              "Date                                                           \n",
              "2018-12-03 98.0200 99.5900 97.6700 98.7500    93.2017   9082100\n",
              "2018-12-04 98.2500 98.9600 95.6100 95.8100    90.4269  10426300\n",
              "2018-12-06 94.9400 95.4100 93.1000 94.7700    89.9334  10367200\n",
              "2018-12-07 94.5000 95.1300 92.4500 93.1900    88.4341   8496500\n",
              "2018-12-10 93.5600 94.2500 92.3400 93.9400    89.1458   7276900"
            ]
          },
          "metadata": {},
          "execution_count": 62
        }
      ]
    },
    {
      "cell_type": "code",
      "source": [
        "wmt = wmt['Close'].to_frame()\n",
        "wmt.head()"
      ],
      "metadata": {
        "colab": {
          "base_uri": "https://localhost:8080/",
          "height": 238
        },
        "id": "R1gUR56HqfVo",
        "outputId": "e22e4f0f-9f7b-42fb-b35e-af37c22ee4ff"
      },
      "execution_count": 63,
      "outputs": [
        {
          "output_type": "execute_result",
          "data": {
            "text/html": [
              "<div>\n",
              "<style scoped>\n",
              "    .dataframe tbody tr th:only-of-type {\n",
              "        vertical-align: middle;\n",
              "    }\n",
              "\n",
              "    .dataframe tbody tr th {\n",
              "        vertical-align: top;\n",
              "    }\n",
              "\n",
              "    .dataframe thead th {\n",
              "        text-align: right;\n",
              "    }\n",
              "</style>\n",
              "<table border=\"1\" class=\"dataframe\">\n",
              "  <thead>\n",
              "    <tr style=\"text-align: right;\">\n",
              "      <th></th>\n",
              "      <th>Close</th>\n",
              "    </tr>\n",
              "    <tr>\n",
              "      <th>Date</th>\n",
              "      <th></th>\n",
              "    </tr>\n",
              "  </thead>\n",
              "  <tbody>\n",
              "    <tr>\n",
              "      <th>2018-12-03</th>\n",
              "      <td>98.7500</td>\n",
              "    </tr>\n",
              "    <tr>\n",
              "      <th>2018-12-04</th>\n",
              "      <td>95.8100</td>\n",
              "    </tr>\n",
              "    <tr>\n",
              "      <th>2018-12-06</th>\n",
              "      <td>94.7700</td>\n",
              "    </tr>\n",
              "    <tr>\n",
              "      <th>2018-12-07</th>\n",
              "      <td>93.1900</td>\n",
              "    </tr>\n",
              "    <tr>\n",
              "      <th>2018-12-10</th>\n",
              "      <td>93.9400</td>\n",
              "    </tr>\n",
              "  </tbody>\n",
              "</table>\n",
              "</div>"
            ],
            "text/plain": [
              "             Close\n",
              "Date              \n",
              "2018-12-03 98.7500\n",
              "2018-12-04 95.8100\n",
              "2018-12-06 94.7700\n",
              "2018-12-07 93.1900\n",
              "2018-12-10 93.9400"
            ]
          },
          "metadata": {},
          "execution_count": 63
        }
      ]
    },
    {
      "cell_type": "code",
      "source": [
        "wmt['returns'] = wmt.Close.pct_change(periods = 1)\n",
        "wmt.rename(columns = {'Close':'price'},inplace = True)\n",
        "wmt.head()"
      ],
      "metadata": {
        "colab": {
          "base_uri": "https://localhost:8080/",
          "height": 238
        },
        "id": "-Oy1umUsq86s",
        "outputId": "f62e91d1-2804-4a4a-c318-1e90045f70cc"
      },
      "execution_count": 64,
      "outputs": [
        {
          "output_type": "execute_result",
          "data": {
            "text/html": [
              "<div>\n",
              "<style scoped>\n",
              "    .dataframe tbody tr th:only-of-type {\n",
              "        vertical-align: middle;\n",
              "    }\n",
              "\n",
              "    .dataframe tbody tr th {\n",
              "        vertical-align: top;\n",
              "    }\n",
              "\n",
              "    .dataframe thead th {\n",
              "        text-align: right;\n",
              "    }\n",
              "</style>\n",
              "<table border=\"1\" class=\"dataframe\">\n",
              "  <thead>\n",
              "    <tr style=\"text-align: right;\">\n",
              "      <th></th>\n",
              "      <th>price</th>\n",
              "      <th>returns</th>\n",
              "    </tr>\n",
              "    <tr>\n",
              "      <th>Date</th>\n",
              "      <th></th>\n",
              "      <th></th>\n",
              "    </tr>\n",
              "  </thead>\n",
              "  <tbody>\n",
              "    <tr>\n",
              "      <th>2018-12-03</th>\n",
              "      <td>98.7500</td>\n",
              "      <td>nan</td>\n",
              "    </tr>\n",
              "    <tr>\n",
              "      <th>2018-12-04</th>\n",
              "      <td>95.8100</td>\n",
              "      <td>-0.0298</td>\n",
              "    </tr>\n",
              "    <tr>\n",
              "      <th>2018-12-06</th>\n",
              "      <td>94.7700</td>\n",
              "      <td>-0.0109</td>\n",
              "    </tr>\n",
              "    <tr>\n",
              "      <th>2018-12-07</th>\n",
              "      <td>93.1900</td>\n",
              "      <td>-0.0167</td>\n",
              "    </tr>\n",
              "    <tr>\n",
              "      <th>2018-12-10</th>\n",
              "      <td>93.9400</td>\n",
              "      <td>0.0080</td>\n",
              "    </tr>\n",
              "  </tbody>\n",
              "</table>\n",
              "</div>"
            ],
            "text/plain": [
              "             price  returns\n",
              "Date                       \n",
              "2018-12-03 98.7500      nan\n",
              "2018-12-04 95.8100  -0.0298\n",
              "2018-12-06 94.7700  -0.0109\n",
              "2018-12-07 93.1900  -0.0167\n",
              "2018-12-10 93.9400   0.0080"
            ]
          },
          "metadata": {},
          "execution_count": 64
        }
      ]
    },
    {
      "cell_type": "code",
      "source": [
        "wmt.price.plot(figsize = (15,8),fontsize = 13)\n",
        "plt.legend(fontsize = 13)\n",
        "plt.show()"
      ],
      "metadata": {
        "colab": {
          "base_uri": "https://localhost:8080/",
          "height": 478
        },
        "id": "q_CS_9ACsBFH",
        "outputId": "b2a2e8a0-ae44-4d58-c8c0-5408a96c8e89"
      },
      "execution_count": 65,
      "outputs": [
        {
          "output_type": "display_data",
          "data": {
            "image/png": "[encoded data removed]",
            "text/plain": [
              "<Figure size 1080x576 with 1 Axes>"
            ]
          },
          "metadata": {}
        }
      ]
    },
    {
      "cell_type": "markdown",
      "source": [
        "## 01. Arithmetic Mean Return (Reward)"
      ],
      "metadata": {
        "id": "k9d7trnJthOL"
      }
    },
    {
      "cell_type": "code",
      "source": [
        "mu = wmt.returns.mean()\n",
        "mu"
      ],
      "metadata": {
        "colab": {
          "base_uri": "https://localhost:8080/"
        },
        "id": "TivhLSfQtmO-",
        "outputId": "563b2421-fa7c-4dc6-feb2-da2dc6f3ecec"
      },
      "execution_count": 66,
      "outputs": [
        {
          "output_type": "execute_result",
          "data": {
            "text/plain": [
              "0.0005688862589377016"
            ]
          },
          "metadata": {},
          "execution_count": 66
        }
      ]
    },
    {
      "cell_type": "markdown",
      "source": [
        "## 02. Standard Deviation of Returns (Risk/Volatility)\n"
      ],
      "metadata": {
        "id": "c39tp8BvtwqD"
      }
    },
    {
      "cell_type": "code",
      "source": [
        "\n",
        "sigma = wmt.returns.std()\n",
        "sigma"
      ],
      "metadata": {
        "colab": {
          "base_uri": "https://localhost:8080/"
        },
        "id": "4VQmutv4t8m5",
        "outputId": "b264236e-68e1-4929-90af-8273346731bb"
      },
      "execution_count": 67,
      "outputs": [
        {
          "output_type": "execute_result",
          "data": {
            "text/plain": [
              "0.014166546323641541"
            ]
          },
          "metadata": {},
          "execution_count": 67
        }
      ]
    },
    {
      "cell_type": "code",
      "source": [
        "sigma = np.sqrt(wmt.returns.var())\n",
        "sigma"
      ],
      "metadata": {
        "colab": {
          "base_uri": "https://localhost:8080/"
        },
        "id": "SXxHfSXsuoos",
        "outputId": "4fa8613d-366a-475e-c71a-c01b70fd9940"
      },
      "execution_count": 68,
      "outputs": [
        {
          "output_type": "execute_result",
          "data": {
            "text/plain": [
              "0.014166546323641541"
            ]
          },
          "metadata": {},
          "execution_count": 68
        }
      ]
    },
    {
      "cell_type": "code",
      "source": [
        "wmt.describe()"
      ],
      "metadata": {
        "colab": {
          "base_uri": "https://localhost:8080/",
          "height": 300
        },
        "id": "kNm9e_NeuCen",
        "outputId": "44e7698c-f8e2-4cd0-e193-df9aa6483a12"
      },
      "execution_count": 69,
      "outputs": [
        {
          "output_type": "execute_result",
          "data": {
            "text/html": [
              "<div>\n",
              "<style scoped>\n",
              "    .dataframe tbody tr th:only-of-type {\n",
              "        vertical-align: middle;\n",
              "    }\n",
              "\n",
              "    .dataframe tbody tr th {\n",
              "        vertical-align: top;\n",
              "    }\n",
              "\n",
              "    .dataframe thead th {\n",
              "        text-align: right;\n",
              "    }\n",
              "</style>\n",
              "<table border=\"1\" class=\"dataframe\">\n",
              "  <thead>\n",
              "    <tr style=\"text-align: right;\">\n",
              "      <th></th>\n",
              "      <th>price</th>\n",
              "      <th>returns</th>\n",
              "    </tr>\n",
              "  </thead>\n",
              "  <tbody>\n",
              "    <tr>\n",
              "      <th>count</th>\n",
              "      <td>754.0000</td>\n",
              "      <td>753.0000</td>\n",
              "    </tr>\n",
              "    <tr>\n",
              "      <th>mean</th>\n",
              "      <td>125.2768</td>\n",
              "      <td>0.0006</td>\n",
              "    </tr>\n",
              "    <tr>\n",
              "      <th>std</th>\n",
              "      <td>17.2037</td>\n",
              "      <td>0.0142</td>\n",
              "    </tr>\n",
              "    <tr>\n",
              "      <th>min</th>\n",
              "      <td>85.8200</td>\n",
              "      <td>-0.0907</td>\n",
              "    </tr>\n",
              "    <tr>\n",
              "      <th>25%</th>\n",
              "      <td>113.9050</td>\n",
              "      <td>-0.0058</td>\n",
              "    </tr>\n",
              "    <tr>\n",
              "      <th>50%</th>\n",
              "      <td>123.9500</td>\n",
              "      <td>0.0002</td>\n",
              "    </tr>\n",
              "    <tr>\n",
              "      <th>75%</th>\n",
              "      <td>140.9900</td>\n",
              "      <td>0.0065</td>\n",
              "    </tr>\n",
              "    <tr>\n",
              "      <th>max</th>\n",
              "      <td>152.7900</td>\n",
              "      <td>0.1171</td>\n",
              "    </tr>\n",
              "  </tbody>\n",
              "</table>\n",
              "</div>"
            ],
            "text/plain": [
              "         price  returns\n",
              "count 754.0000 753.0000\n",
              "mean  125.2768   0.0006\n",
              "std    17.2037   0.0142\n",
              "min    85.8200  -0.0907\n",
              "25%   113.9050  -0.0058\n",
              "50%   123.9500   0.0002\n",
              "75%   140.9900   0.0065\n",
              "max   152.7900   0.1171"
            ]
          },
          "metadata": {},
          "execution_count": 69
        }
      ]
    },
    {
      "cell_type": "code",
      "source": [
        "sns.displot(wmt.returns)\n",
        "plt.show()"
      ],
      "metadata": {
        "colab": {
          "base_uri": "https://localhost:8080/",
          "height": 369
        },
        "id": "enl8AHzmuLxM",
        "outputId": "86623f24-bc11-4f5a-d0ac-5523dc8f6719"
      },
      "execution_count": 70,
      "outputs": [
        {
          "output_type": "display_data",
          "data": {
            "image/png": "[encoded data removed]",
            "text/plain": [
              "<Figure size 360x360 with 1 Axes>"
            ]
          },
          "metadata": {}
        }
      ]
    },
    {
      "cell_type": "markdown",
      "source": [
        "## 03. Investment Multiple (Reward)\n",
        "\n",
        "More intuitive and easier to interpret in comparision with Arithmetic Mean Return.\n",
        "\n",
        "It's simple the Ending Value of 1 unit (dollar) invested \n",
        "\n",
        " $multiple = \\frac{Ending\\_Value}{Initial\\_Investment}$"
      ],
      "metadata": {
        "id": "0Q39WJsUvXy1"
      }
    },
    {
      "cell_type": "code",
      "source": [
        "multiple = wmt.price[-1] / wmt.price[0]\n",
        "multiple"
      ],
      "metadata": {
        "colab": {
          "base_uri": "https://localhost:8080/"
        },
        "id": "K8TS1ceuyVOQ",
        "outputId": "82804b10-bf81-49aa-b978-1fdd459a57f5"
      },
      "execution_count": 71,
      "outputs": [
        {
          "output_type": "execute_result",
          "data": {
            "text/plain": [
              "1.4241013152689874"
            ]
          },
          "metadata": {},
          "execution_count": 71
        }
      ]
    },
    {
      "cell_type": "markdown",
      "source": [
        "### 03.01. price Increase (%)"
      ],
      "metadata": {
        "id": "ZLeCZxqiyipT"
      }
    },
    {
      "cell_type": "code",
      "source": [
        "(multiple -1) * 100"
      ],
      "metadata": {
        "colab": {
          "base_uri": "https://localhost:8080/"
        },
        "id": "e4U3gG5Kymzg",
        "outputId": "142c5d9a-2fb8-4a6a-ab7e-50453e7061fc"
      },
      "execution_count": 72,
      "outputs": [
        {
          "output_type": "execute_result",
          "data": {
            "text/plain": [
              "42.410131526898745"
            ]
          },
          "metadata": {},
          "execution_count": 72
        }
      ]
    },
    {
      "cell_type": "markdown",
      "source": [
        "### 03.02. Alternative\n",
        "\n",
        "Compounding daily returns\n",
        "\n",
        "$\\frac{a_2}{a_1} \\cdot \\frac{a_3}{a_2} \\cdot  \\frac{a_4}{a_3} ... = \\frac{a_n}{a_1}$"
      ],
      "metadata": {
        "id": "W53uLnNS72bh"
      }
    },
    {
      "cell_type": "code",
      "source": [
        "multiple_2 = (1 + wmt.returns).prod()\n",
        "multiple_2"
      ],
      "metadata": {
        "colab": {
          "base_uri": "https://localhost:8080/"
        },
        "id": "Gj1c5agy76li",
        "outputId": "8a4df4e2-e3bd-4add-c5d0-f845a59097d8"
      },
      "execution_count": 73,
      "outputs": [
        {
          "output_type": "execute_result",
          "data": {
            "text/plain": [
              "1.424101315268986"
            ]
          },
          "metadata": {},
          "execution_count": 73
        }
      ]
    },
    {
      "cell_type": "code",
      "source": [
        "1 + wmt.returns"
      ],
      "metadata": {
        "colab": {
          "base_uri": "https://localhost:8080/"
        },
        "id": "C1PWIsu38d3_",
        "outputId": "224023a3-e0b3-401e-a65d-cf8ad5a4babd"
      },
      "execution_count": 74,
      "outputs": [
        {
          "output_type": "execute_result",
          "data": {
            "text/plain": [
              "Date\n",
              "2018-12-03      nan\n",
              "2018-12-04   0.9702\n",
              "2018-12-06   0.9891\n",
              "2018-12-07   0.9833\n",
              "2018-12-10   1.0080\n",
              "              ...  \n",
              "2021-11-23   1.0071\n",
              "2021-11-24   1.0050\n",
              "2021-11-26   0.9888\n",
              "2021-11-29   0.9843\n",
              "2021-11-30   0.9860\n",
              "Name: returns, Length: 754, dtype: float64"
            ]
          },
          "metadata": {},
          "execution_count": 74
        }
      ]
    },
    {
      "cell_type": "markdown",
      "source": [
        "### 03.02. Drawback \n",
        "\n",
        "It does not take into account investment period"
      ],
      "metadata": {
        "id": "bumlLCpRzzkz"
      }
    },
    {
      "cell_type": "markdown",
      "source": [
        "## 04. CAGR Compound Annual Growth Rate (Reward) \n",
        "\n",
        "It does take into account the investiment period.\n",
        "\n",
        "The (constant annual) rate of returns that would be required for an investment to grow from its beginning balance to its ending balance, assuming the profits were reinvested at the end of each year of the investemnt's lifespan.\n",
        "\n",
        "CAGR can be used to compare investments with different investment horizons"
      ],
      "metadata": {
        "id": "XWxFrgZ-xeAu"
      }
    },
    {
      "cell_type": "markdown",
      "source": [
        "$CAGR = multiple^{\\frac{1}{years}} - 1 $"
      ],
      "metadata": {
        "id": "4h6YHApJ6U1s"
      }
    },
    {
      "cell_type": "code",
      "source": [
        "start = wmt.index[0]\n",
        "end = wmt.index[-1]\n",
        "delta = end - start\n",
        "delta"
      ],
      "metadata": {
        "colab": {
          "base_uri": "https://localhost:8080/"
        },
        "id": "eauPvukY1iXh",
        "outputId": "1397966b-dd07-49b2-c665-580af7c545bd"
      },
      "execution_count": 75,
      "outputs": [
        {
          "output_type": "execute_result",
          "data": {
            "text/plain": [
              "Timedelta('1093 days 00:00:00')"
            ]
          },
          "metadata": {},
          "execution_count": 75
        }
      ]
    },
    {
      "cell_type": "code",
      "source": [
        "delta_years = delta.days / 365\n",
        "delta_years "
      ],
      "metadata": {
        "colab": {
          "base_uri": "https://localhost:8080/"
        },
        "id": "y_dpFHNs1sv3",
        "outputId": "7232577f-029a-4328-f131-150ea3294c00"
      },
      "execution_count": 76,
      "outputs": [
        {
          "output_type": "execute_result",
          "data": {
            "text/plain": [
              "2.9945205479452053"
            ]
          },
          "metadata": {},
          "execution_count": 76
        }
      ]
    },
    {
      "cell_type": "code",
      "source": [
        "cagr = multiple**(1 / delta_years) -1 \n",
        "cagr"
      ],
      "metadata": {
        "colab": {
          "base_uri": "https://localhost:8080/"
        },
        "id": "IbeCnPkl6mFM",
        "outputId": "d97829bd-a0d3-4995-b35d-791a5389b1b8"
      },
      "execution_count": 77,
      "outputs": [
        {
          "output_type": "execute_result",
          "data": {
            "text/plain": [
              "0.1253145828563853"
            ]
          },
          "metadata": {},
          "execution_count": 77
        }
      ]
    },
    {
      "cell_type": "markdown",
      "source": [
        "## 05. Geometric Mean Return (daily) (Reward)\n",
        "\n",
        "It's similar to the CAGR but in daily basis.\n",
        "\n",
        "The geometric mean return is always smaller that the arithmetic mean return (daily)\n",
        "\n",
        "$geo = multiple^{\\frac{1}{n}}$"
      ],
      "metadata": {
        "id": "SCKJYVZe9hji"
      }
    },
    {
      "cell_type": "code",
      "source": [
        "n = wmt.returns.count()\n",
        "geo_mean = multiple ** (1/n) - 1\n",
        "geo_mean"
      ],
      "metadata": {
        "colab": {
          "base_uri": "https://localhost:8080/"
        },
        "id": "TZw7_MKb9qMl",
        "outputId": "f2eb6f7e-c968-44d8-b95c-e002f86cc3f7"
      },
      "execution_count": 78,
      "outputs": [
        {
          "output_type": "execute_result",
          "data": {
            "text/plain": [
              "0.0004696201425014035"
            ]
          },
          "metadata": {},
          "execution_count": 78
        }
      ]
    }
  ]
}