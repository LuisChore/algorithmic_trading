{
  "nbformat": 4,
  "nbformat_minor": 0,
  "metadata": {
    "colab": {
      "name": "02_prices.ipynb",
      "provenance": [],
      "toc_visible": true,
      "authorship_tag": "ABX9TyOvgVdrSCGFRFkztOBkdEL9"
    },
    "kernelspec": {
      "name": "python3",
      "display_name": "Python 3"
    },
    "language_info": {
      "name": "python"
    }
  },
  "cells": [
    {
      "cell_type": "markdown",
      "source": [
        "## 01. Normalized prices\n",
        "\n",
        "Absolute prices does not work for comparing different financial instruments because they are in different scale"
      ],
      "metadata": {
        "id": "92ZOR-38l-8T"
      }
    },
    {
      "cell_type": "code",
      "source": [
        "!pip install yfinance"
      ],
      "metadata": {
        "id": "RIPfy0sEnwsx"
      },
      "execution_count": null,
      "outputs": []
    },
    {
      "cell_type": "code",
      "source": [
        "import pandas as pd \n",
        "import yfinance as yf "
      ],
      "metadata": {
        "id": "0Iu_UReqnzmX"
      },
      "execution_count": 2,
      "outputs": []
    },
    {
      "cell_type": "code",
      "source": [
        "symbols = ['BA','MSFT','^DJI','EURUSD=X','GC=F','BTC-USD']"
      ],
      "metadata": {
        "id": "h2HZJ_wLn9Mb"
      },
      "execution_count": 3,
      "outputs": []
    },
    {
      "cell_type": "code",
      "source": [
        "df = yf.download(symbols, start = '2020-12-10', end = '2021-12-13')\n",
        "df.head()"
      ],
      "metadata": {
        "colab": {
          "base_uri": "https://localhost:8080/",
          "height": 306
        },
        "id": "SvQn0dApn-Ek",
        "outputId": "e2a4fad7-0b79-42b9-d1ce-f672ea6aa845"
      },
      "execution_count": 9,
      "outputs": [
        {
          "output_type": "stream",
          "name": "stdout",
          "text": [
            "[*********************100%***********************]  6 of 6 completed\n"
          ]
        },
        {
          "output_type": "execute_result",
          "data": {
            "text/html": [
              "<div>\n",
              "<style scoped>\n",
              "    .dataframe tbody tr th:only-of-type {\n",
              "        vertical-align: middle;\n",
              "    }\n",
              "\n",
              "    .dataframe tbody tr th {\n",
              "        vertical-align: top;\n",
              "    }\n",
              "\n",
              "    .dataframe thead tr th {\n",
              "        text-align: left;\n",
              "    }\n",
              "\n",
              "    .dataframe thead tr:last-of-type th {\n",
              "        text-align: right;\n",
              "    }\n",
              "</style>\n",
              "<table border=\"1\" class=\"dataframe\">\n",
              "  <thead>\n",
              "    <tr>\n",
              "      <th></th>\n",
              "      <th colspan=\"6\" halign=\"left\">Adj Close</th>\n",
              "      <th colspan=\"6\" halign=\"left\">Close</th>\n",
              "      <th colspan=\"6\" halign=\"left\">High</th>\n",
              "      <th colspan=\"6\" halign=\"left\">Low</th>\n",
              "      <th colspan=\"6\" halign=\"left\">Open</th>\n",
              "      <th colspan=\"6\" halign=\"left\">Volume</th>\n",
              "    </tr>\n",
              "    <tr>\n",
              "      <th></th>\n",
              "      <th>BA</th>\n",
              "      <th>BTC-USD</th>\n",
              "      <th>EURUSD=X</th>\n",
              "      <th>GC=F</th>\n",
              "      <th>MSFT</th>\n",
              "      <th>^DJI</th>\n",
              "      <th>BA</th>\n",
              "      <th>BTC-USD</th>\n",
              "      <th>EURUSD=X</th>\n",
              "      <th>GC=F</th>\n",
              "      <th>MSFT</th>\n",
              "      <th>^DJI</th>\n",
              "      <th>BA</th>\n",
              "      <th>BTC-USD</th>\n",
              "      <th>EURUSD=X</th>\n",
              "      <th>GC=F</th>\n",
              "      <th>MSFT</th>\n",
              "      <th>^DJI</th>\n",
              "      <th>BA</th>\n",
              "      <th>BTC-USD</th>\n",
              "      <th>EURUSD=X</th>\n",
              "      <th>GC=F</th>\n",
              "      <th>MSFT</th>\n",
              "      <th>^DJI</th>\n",
              "      <th>BA</th>\n",
              "      <th>BTC-USD</th>\n",
              "      <th>EURUSD=X</th>\n",
              "      <th>GC=F</th>\n",
              "      <th>MSFT</th>\n",
              "      <th>^DJI</th>\n",
              "      <th>BA</th>\n",
              "      <th>BTC-USD</th>\n",
              "      <th>EURUSD=X</th>\n",
              "      <th>GC=F</th>\n",
              "      <th>MSFT</th>\n",
              "      <th>^DJI</th>\n",
              "    </tr>\n",
              "    <tr>\n",
              "      <th>Date</th>\n",
              "      <th></th>\n",
              "      <th></th>\n",
              "      <th></th>\n",
              "      <th></th>\n",
              "      <th></th>\n",
              "      <th></th>\n",
              "      <th></th>\n",
              "      <th></th>\n",
              "      <th></th>\n",
              "      <th></th>\n",
              "      <th></th>\n",
              "      <th></th>\n",
              "      <th></th>\n",
              "      <th></th>\n",
              "      <th></th>\n",
              "      <th></th>\n",
              "      <th></th>\n",
              "      <th></th>\n",
              "      <th></th>\n",
              "      <th></th>\n",
              "      <th></th>\n",
              "      <th></th>\n",
              "      <th></th>\n",
              "      <th></th>\n",
              "      <th></th>\n",
              "      <th></th>\n",
              "      <th></th>\n",
              "      <th></th>\n",
              "      <th></th>\n",
              "      <th></th>\n",
              "      <th></th>\n",
              "      <th></th>\n",
              "      <th></th>\n",
              "      <th></th>\n",
              "      <th></th>\n",
              "      <th></th>\n",
              "    </tr>\n",
              "  </thead>\n",
              "  <tbody>\n",
              "    <tr>\n",
              "      <th>2020-12-10</th>\n",
              "      <td>234.429993</td>\n",
              "      <td>18264.992188</td>\n",
              "      <td>1.207875</td>\n",
              "      <td>1833.599976</td>\n",
              "      <td>208.770035</td>\n",
              "      <td>29999.259766</td>\n",
              "      <td>234.429993</td>\n",
              "      <td>18264.992188</td>\n",
              "      <td>1.207875</td>\n",
              "      <td>1833.599976</td>\n",
              "      <td>210.520004</td>\n",
              "      <td>29999.259766</td>\n",
              "      <td>237.009995</td>\n",
              "      <td>18553.298828</td>\n",
              "      <td>1.215806</td>\n",
              "      <td>1849.099976</td>\n",
              "      <td>213.080002</td>\n",
              "      <td>30063.869141</td>\n",
              "      <td>228.020004</td>\n",
              "      <td>17957.064453</td>\n",
              "      <td>1.208036</td>\n",
              "      <td>1828.000000</td>\n",
              "      <td>210.360001</td>\n",
              "      <td>29876.820312</td>\n",
              "      <td>228.100006</td>\n",
              "      <td>18553.298828</td>\n",
              "      <td>1.208167</td>\n",
              "      <td>1833.199951</td>\n",
              "      <td>211.770004</td>\n",
              "      <td>30032.550781</td>\n",
              "      <td>16185000.0</td>\n",
              "      <td>25547132265</td>\n",
              "      <td>0.0</td>\n",
              "      <td>177.0</td>\n",
              "      <td>26733300.0</td>\n",
              "      <td>325550000.0</td>\n",
              "    </tr>\n",
              "    <tr>\n",
              "      <th>2020-12-11</th>\n",
              "      <td>230.330002</td>\n",
              "      <td>18058.904297</td>\n",
              "      <td>1.214429</td>\n",
              "      <td>1839.800049</td>\n",
              "      <td>211.487259</td>\n",
              "      <td>30046.369141</td>\n",
              "      <td>230.330002</td>\n",
              "      <td>18058.904297</td>\n",
              "      <td>1.214429</td>\n",
              "      <td>1839.800049</td>\n",
              "      <td>213.259995</td>\n",
              "      <td>30046.369141</td>\n",
              "      <td>236.220001</td>\n",
              "      <td>18268.453125</td>\n",
              "      <td>1.216397</td>\n",
              "      <td>1846.000000</td>\n",
              "      <td>213.320007</td>\n",
              "      <td>30071.130859</td>\n",
              "      <td>228.330002</td>\n",
              "      <td>17619.533203</td>\n",
              "      <td>1.210786</td>\n",
              "      <td>1829.099976</td>\n",
              "      <td>209.110001</td>\n",
              "      <td>29820.839844</td>\n",
              "      <td>232.820007</td>\n",
              "      <td>18263.929688</td>\n",
              "      <td>1.214344</td>\n",
              "      <td>1838.500000</td>\n",
              "      <td>210.050003</td>\n",
              "      <td>29988.210938</td>\n",
              "      <td>17311800.0</td>\n",
              "      <td>27919640985</td>\n",
              "      <td>0.0</td>\n",
              "      <td>109.0</td>\n",
              "      <td>30979400.0</td>\n",
              "      <td>393870000.0</td>\n",
              "    </tr>\n",
              "    <tr>\n",
              "      <th>2020-12-12</th>\n",
              "      <td>NaN</td>\n",
              "      <td>18803.656250</td>\n",
              "      <td>NaN</td>\n",
              "      <td>NaN</td>\n",
              "      <td>NaN</td>\n",
              "      <td>NaN</td>\n",
              "      <td>NaN</td>\n",
              "      <td>18803.656250</td>\n",
              "      <td>NaN</td>\n",
              "      <td>NaN</td>\n",
              "      <td>NaN</td>\n",
              "      <td>NaN</td>\n",
              "      <td>NaN</td>\n",
              "      <td>18919.550781</td>\n",
              "      <td>NaN</td>\n",
              "      <td>NaN</td>\n",
              "      <td>NaN</td>\n",
              "      <td>NaN</td>\n",
              "      <td>NaN</td>\n",
              "      <td>18046.041016</td>\n",
              "      <td>NaN</td>\n",
              "      <td>NaN</td>\n",
              "      <td>NaN</td>\n",
              "      <td>NaN</td>\n",
              "      <td>NaN</td>\n",
              "      <td>18051.320312</td>\n",
              "      <td>NaN</td>\n",
              "      <td>NaN</td>\n",
              "      <td>NaN</td>\n",
              "      <td>NaN</td>\n",
              "      <td>NaN</td>\n",
              "      <td>21752580802</td>\n",
              "      <td>NaN</td>\n",
              "      <td>NaN</td>\n",
              "      <td>NaN</td>\n",
              "      <td>NaN</td>\n",
              "    </tr>\n",
              "    <tr>\n",
              "      <th>2020-12-13</th>\n",
              "      <td>NaN</td>\n",
              "      <td>19142.382812</td>\n",
              "      <td>NaN</td>\n",
              "      <td>NaN</td>\n",
              "      <td>NaN</td>\n",
              "      <td>NaN</td>\n",
              "      <td>NaN</td>\n",
              "      <td>19142.382812</td>\n",
              "      <td>NaN</td>\n",
              "      <td>NaN</td>\n",
              "      <td>NaN</td>\n",
              "      <td>NaN</td>\n",
              "      <td>NaN</td>\n",
              "      <td>19381.535156</td>\n",
              "      <td>NaN</td>\n",
              "      <td>NaN</td>\n",
              "      <td>NaN</td>\n",
              "      <td>NaN</td>\n",
              "      <td>NaN</td>\n",
              "      <td>18734.332031</td>\n",
              "      <td>NaN</td>\n",
              "      <td>NaN</td>\n",
              "      <td>NaN</td>\n",
              "      <td>NaN</td>\n",
              "      <td>NaN</td>\n",
              "      <td>18806.765625</td>\n",
              "      <td>NaN</td>\n",
              "      <td>NaN</td>\n",
              "      <td>NaN</td>\n",
              "      <td>NaN</td>\n",
              "      <td>NaN</td>\n",
              "      <td>25450468637</td>\n",
              "      <td>NaN</td>\n",
              "      <td>NaN</td>\n",
              "      <td>NaN</td>\n",
              "      <td>NaN</td>\n",
              "    </tr>\n",
              "    <tr>\n",
              "      <th>2020-12-14</th>\n",
              "      <td>228.619995</td>\n",
              "      <td>19246.644531</td>\n",
              "      <td>1.213340</td>\n",
              "      <td>1828.699951</td>\n",
              "      <td>212.419434</td>\n",
              "      <td>29861.550781</td>\n",
              "      <td>228.619995</td>\n",
              "      <td>19246.644531</td>\n",
              "      <td>1.213340</td>\n",
              "      <td>1828.699951</td>\n",
              "      <td>214.199997</td>\n",
              "      <td>29861.550781</td>\n",
              "      <td>237.630005</td>\n",
              "      <td>19305.099609</td>\n",
              "      <td>1.217404</td>\n",
              "      <td>1835.699951</td>\n",
              "      <td>216.210007</td>\n",
              "      <td>30325.789062</td>\n",
              "      <td>228.369995</td>\n",
              "      <td>19012.708984</td>\n",
              "      <td>1.211754</td>\n",
              "      <td>1822.699951</td>\n",
              "      <td>212.880005</td>\n",
              "      <td>29849.150391</td>\n",
              "      <td>235.000000</td>\n",
              "      <td>19144.492188</td>\n",
              "      <td>1.213357</td>\n",
              "      <td>1835.500000</td>\n",
              "      <td>213.100006</td>\n",
              "      <td>30123.910156</td>\n",
              "      <td>19231200.0</td>\n",
              "      <td>22473997681</td>\n",
              "      <td>0.0</td>\n",
              "      <td>258.0</td>\n",
              "      <td>28798400.0</td>\n",
              "      <td>371980000.0</td>\n",
              "    </tr>\n",
              "  </tbody>\n",
              "</table>\n",
              "</div>"
            ],
            "text/plain": [
              "             Adj Close                          ... Volume                         \n",
              "                    BA       BTC-USD  EURUSD=X  ...   GC=F        MSFT         ^DJI\n",
              "Date                                            ...                                \n",
              "2020-12-10  234.429993  18264.992188  1.207875  ...  177.0  26733300.0  325550000.0\n",
              "2020-12-11  230.330002  18058.904297  1.214429  ...  109.0  30979400.0  393870000.0\n",
              "2020-12-12         NaN  18803.656250       NaN  ...    NaN         NaN          NaN\n",
              "2020-12-13         NaN  19142.382812       NaN  ...    NaN         NaN          NaN\n",
              "2020-12-14  228.619995  19246.644531  1.213340  ...  258.0  28798400.0  371980000.0\n",
              "\n",
              "[5 rows x 36 columns]"
            ]
          },
          "metadata": {},
          "execution_count": 9
        }
      ]
    },
    {
      "cell_type": "markdown",
      "source": [
        "### 01.01. Base value (100)"
      ],
      "metadata": {
        "id": "8GtMy8zenntc"
      }
    },
    {
      "cell_type": "code",
      "source": [
        "close = df.Close.copy()  \n",
        "close.describe()"
      ],
      "metadata": {
        "colab": {
          "base_uri": "https://localhost:8080/",
          "height": 300
        },
        "id": "2e0pWIbOoQ2F",
        "outputId": "3848d55c-4c08-4c64-f92c-05441ef30733"
      },
      "execution_count": 10,
      "outputs": [
        {
          "output_type": "execute_result",
          "data": {
            "text/html": [
              "<div>\n",
              "<style scoped>\n",
              "    .dataframe tbody tr th:only-of-type {\n",
              "        vertical-align: middle;\n",
              "    }\n",
              "\n",
              "    .dataframe tbody tr th {\n",
              "        vertical-align: top;\n",
              "    }\n",
              "\n",
              "    .dataframe thead th {\n",
              "        text-align: right;\n",
              "    }\n",
              "</style>\n",
              "<table border=\"1\" class=\"dataframe\">\n",
              "  <thead>\n",
              "    <tr style=\"text-align: right;\">\n",
              "      <th></th>\n",
              "      <th>BA</th>\n",
              "      <th>BTC-USD</th>\n",
              "      <th>EURUSD=X</th>\n",
              "      <th>GC=F</th>\n",
              "      <th>MSFT</th>\n",
              "      <th>^DJI</th>\n",
              "    </tr>\n",
              "  </thead>\n",
              "  <tbody>\n",
              "    <tr>\n",
              "      <th>count</th>\n",
              "      <td>253.000000</td>\n",
              "      <td>369.000000</td>\n",
              "      <td>263.000000</td>\n",
              "      <td>254.000000</td>\n",
              "      <td>253.000000</td>\n",
              "      <td>253.000000</td>\n",
              "    </tr>\n",
              "    <tr>\n",
              "      <th>mean</th>\n",
              "      <td>225.807431</td>\n",
              "      <td>45948.625646</td>\n",
              "      <td>1.188224</td>\n",
              "      <td>1801.775982</td>\n",
              "      <td>269.417035</td>\n",
              "      <td>33725.506894</td>\n",
              "    </tr>\n",
              "    <tr>\n",
              "      <th>std</th>\n",
              "      <td>15.902951</td>\n",
              "      <td>11323.989475</td>\n",
              "      <td>0.026522</td>\n",
              "      <td>51.975765</td>\n",
              "      <td>36.343173</td>\n",
              "      <td>1784.128444</td>\n",
              "    </tr>\n",
              "    <tr>\n",
              "      <th>min</th>\n",
              "      <td>188.190002</td>\n",
              "      <td>18058.904297</td>\n",
              "      <td>1.120298</td>\n",
              "      <td>1677.699951</td>\n",
              "      <td>210.520004</td>\n",
              "      <td>29861.550781</td>\n",
              "    </tr>\n",
              "    <tr>\n",
              "      <th>25%</th>\n",
              "      <td>213.360001</td>\n",
              "      <td>36178.140625</td>\n",
              "      <td>1.173007</td>\n",
              "      <td>1768.424988</td>\n",
              "      <td>239.509995</td>\n",
              "      <td>32485.589844</td>\n",
              "    </tr>\n",
              "    <tr>\n",
              "      <th>50%</th>\n",
              "      <td>223.570007</td>\n",
              "      <td>47096.945312</td>\n",
              "      <td>1.188594</td>\n",
              "      <td>1794.399963</td>\n",
              "      <td>260.739990</td>\n",
              "      <td>34314.671875</td>\n",
              "    </tr>\n",
              "    <tr>\n",
              "      <th>75%</th>\n",
              "      <td>236.679993</td>\n",
              "      <td>56099.519531</td>\n",
              "      <td>1.212217</td>\n",
              "      <td>1837.100006</td>\n",
              "      <td>296.769989</td>\n",
              "      <td>34987.019531</td>\n",
              "    </tr>\n",
              "    <tr>\n",
              "      <th>max</th>\n",
              "      <td>269.190002</td>\n",
              "      <td>67566.828125</td>\n",
              "      <td>1.234111</td>\n",
              "      <td>1952.699951</td>\n",
              "      <td>343.109985</td>\n",
              "      <td>36432.218750</td>\n",
              "    </tr>\n",
              "  </tbody>\n",
              "</table>\n",
              "</div>"
            ],
            "text/plain": [
              "               BA       BTC-USD  ...        MSFT          ^DJI\n",
              "count  253.000000    369.000000  ...  253.000000    253.000000\n",
              "mean   225.807431  45948.625646  ...  269.417035  33725.506894\n",
              "std     15.902951  11323.989475  ...   36.343173   1784.128444\n",
              "min    188.190002  18058.904297  ...  210.520004  29861.550781\n",
              "25%    213.360001  36178.140625  ...  239.509995  32485.589844\n",
              "50%    223.570007  47096.945312  ...  260.739990  34314.671875\n",
              "75%    236.679993  56099.519531  ...  296.769989  34987.019531\n",
              "max    269.190002  67566.828125  ...  343.109985  36432.218750\n",
              "\n",
              "[8 rows x 6 columns]"
            ]
          },
          "metadata": {},
          "execution_count": 10
        }
      ]
    },
    {
      "cell_type": "code",
      "source": [
        "first_row = close.iloc[0]\n",
        "first_row"
      ],
      "metadata": {
        "colab": {
          "base_uri": "https://localhost:8080/"
        },
        "id": "0TOVtkyJo15F",
        "outputId": "a1f295d2-aaa1-4441-d522-5db4402e48cb"
      },
      "execution_count": 11,
      "outputs": [
        {
          "output_type": "execute_result",
          "data": {
            "text/plain": [
              "BA            234.429993\n",
              "BTC-USD     18264.992188\n",
              "EURUSD=X        1.207875\n",
              "GC=F         1833.599976\n",
              "MSFT          210.520004\n",
              "^DJI        29999.259766\n",
              "Name: 2020-12-10 00:00:00, dtype: float64"
            ]
          },
          "metadata": {},
          "execution_count": 11
        }
      ]
    },
    {
      "cell_type": "code",
      "source": [
        "norm = close.div(first_row).mul(100) \n",
        "norm"
      ],
      "metadata": {
        "colab": {
          "base_uri": "https://localhost:8080/",
          "height": 455
        },
        "id": "Evl1aKuCpELd",
        "outputId": "fd81df92-4469-4973-b423-c990c8229520"
      },
      "execution_count": 15,
      "outputs": [
        {
          "output_type": "execute_result",
          "data": {
            "text/html": [
              "<div>\n",
              "<style scoped>\n",
              "    .dataframe tbody tr th:only-of-type {\n",
              "        vertical-align: middle;\n",
              "    }\n",
              "\n",
              "    .dataframe tbody tr th {\n",
              "        vertical-align: top;\n",
              "    }\n",
              "\n",
              "    .dataframe thead th {\n",
              "        text-align: right;\n",
              "    }\n",
              "</style>\n",
              "<table border=\"1\" class=\"dataframe\">\n",
              "  <thead>\n",
              "    <tr style=\"text-align: right;\">\n",
              "      <th></th>\n",
              "      <th>BA</th>\n",
              "      <th>BTC-USD</th>\n",
              "      <th>EURUSD=X</th>\n",
              "      <th>GC=F</th>\n",
              "      <th>MSFT</th>\n",
              "      <th>^DJI</th>\n",
              "    </tr>\n",
              "    <tr>\n",
              "      <th>Date</th>\n",
              "      <th></th>\n",
              "      <th></th>\n",
              "      <th></th>\n",
              "      <th></th>\n",
              "      <th></th>\n",
              "      <th></th>\n",
              "    </tr>\n",
              "  </thead>\n",
              "  <tbody>\n",
              "    <tr>\n",
              "      <th>2020-12-10</th>\n",
              "      <td>100.000000</td>\n",
              "      <td>100.000000</td>\n",
              "      <td>100.000000</td>\n",
              "      <td>100.000000</td>\n",
              "      <td>100.000000</td>\n",
              "      <td>100.000000</td>\n",
              "    </tr>\n",
              "    <tr>\n",
              "      <th>2020-12-11</th>\n",
              "      <td>98.251081</td>\n",
              "      <td>98.871678</td>\n",
              "      <td>100.542606</td>\n",
              "      <td>100.338137</td>\n",
              "      <td>101.301534</td>\n",
              "      <td>100.157035</td>\n",
              "    </tr>\n",
              "    <tr>\n",
              "      <th>2020-12-12</th>\n",
              "      <td>NaN</td>\n",
              "      <td>102.949161</td>\n",
              "      <td>NaN</td>\n",
              "      <td>NaN</td>\n",
              "      <td>NaN</td>\n",
              "      <td>NaN</td>\n",
              "    </tr>\n",
              "    <tr>\n",
              "      <th>2020-12-13</th>\n",
              "      <td>NaN</td>\n",
              "      <td>104.803674</td>\n",
              "      <td>NaN</td>\n",
              "      <td>NaN</td>\n",
              "      <td>NaN</td>\n",
              "      <td>NaN</td>\n",
              "    </tr>\n",
              "    <tr>\n",
              "      <th>2020-12-14</th>\n",
              "      <td>97.521649</td>\n",
              "      <td>105.374502</td>\n",
              "      <td>100.452450</td>\n",
              "      <td>99.732765</td>\n",
              "      <td>101.748049</td>\n",
              "      <td>99.540959</td>\n",
              "    </tr>\n",
              "    <tr>\n",
              "      <th>...</th>\n",
              "      <td>...</td>\n",
              "      <td>...</td>\n",
              "      <td>...</td>\n",
              "      <td>...</td>\n",
              "      <td>...</td>\n",
              "      <td>...</td>\n",
              "    </tr>\n",
              "    <tr>\n",
              "      <th>2021-12-09</th>\n",
              "      <td>88.538158</td>\n",
              "      <td>261.002691</td>\n",
              "      <td>93.930111</td>\n",
              "      <td>96.782286</td>\n",
              "      <td>158.227247</td>\n",
              "      <td>119.185246</td>\n",
              "    </tr>\n",
              "    <tr>\n",
              "      <th>2021-12-10</th>\n",
              "      <td>87.471742</td>\n",
              "      <td>258.654941</td>\n",
              "      <td>93.497311</td>\n",
              "      <td>97.234950</td>\n",
              "      <td>162.711382</td>\n",
              "      <td>119.906253</td>\n",
              "    </tr>\n",
              "    <tr>\n",
              "      <th>2021-12-11</th>\n",
              "      <td>NaN</td>\n",
              "      <td>270.257481</td>\n",
              "      <td>NaN</td>\n",
              "      <td>NaN</td>\n",
              "      <td>NaN</td>\n",
              "      <td>NaN</td>\n",
              "    </tr>\n",
              "    <tr>\n",
              "      <th>2021-12-12</th>\n",
              "      <td>NaN</td>\n",
              "      <td>274.286107</td>\n",
              "      <td>NaN</td>\n",
              "      <td>NaN</td>\n",
              "      <td>NaN</td>\n",
              "      <td>NaN</td>\n",
              "    </tr>\n",
              "    <tr>\n",
              "      <th>2021-12-13</th>\n",
              "      <td>NaN</td>\n",
              "      <td>255.885576</td>\n",
              "      <td>93.650671</td>\n",
              "      <td>NaN</td>\n",
              "      <td>NaN</td>\n",
              "      <td>NaN</td>\n",
              "    </tr>\n",
              "  </tbody>\n",
              "</table>\n",
              "<p>369 rows × 6 columns</p>\n",
              "</div>"
            ],
            "text/plain": [
              "                    BA     BTC-USD  ...        MSFT        ^DJI\n",
              "Date                                ...                        \n",
              "2020-12-10  100.000000  100.000000  ...  100.000000  100.000000\n",
              "2020-12-11   98.251081   98.871678  ...  101.301534  100.157035\n",
              "2020-12-12         NaN  102.949161  ...         NaN         NaN\n",
              "2020-12-13         NaN  104.803674  ...         NaN         NaN\n",
              "2020-12-14   97.521649  105.374502  ...  101.748049   99.540959\n",
              "...                ...         ...  ...         ...         ...\n",
              "2021-12-09   88.538158  261.002691  ...  158.227247  119.185246\n",
              "2021-12-10   87.471742  258.654941  ...  162.711382  119.906253\n",
              "2021-12-11         NaN  270.257481  ...         NaN         NaN\n",
              "2021-12-12         NaN  274.286107  ...         NaN         NaN\n",
              "2021-12-13         NaN  255.885576  ...         NaN         NaN\n",
              "\n",
              "[369 rows x 6 columns]"
            ]
          },
          "metadata": {},
          "execution_count": 15
        }
      ]
    },
    {
      "cell_type": "markdown",
      "source": [
        "### 01.02 Visualize Normalized Prices"
      ],
      "metadata": {
        "id": "qtVpFU9Lpb33"
      }
    },
    {
      "cell_type": "code",
      "source": [
        "import matplotlib.pyplot as plt \n",
        "plt.style.use('seaborn')"
      ],
      "metadata": {
        "id": "R8Othxq1pesi"
      },
      "execution_count": 14,
      "outputs": []
    },
    {
      "cell_type": "code",
      "source": [
        "#log scale \n",
        "norm.dropna().plot(figsize = (15,8), fontsize = 13,logy = True)\n",
        "plt.legend(fontsize = 13)\n",
        "plt.show()"
      ],
      "metadata": {
        "colab": {
          "base_uri": "https://localhost:8080/",
          "height": 476
        },
        "id": "LAZSUekJpke2",
        "outputId": "55afb98f-9a95-40f5-caa6-7536125974ff"
      },
      "execution_count": 18,
      "outputs": [
        {
          "output_type": "display_data",
          "data": {
            "image/png": "[encoded data removed]",
            "text/plain": [
              "<Figure size 1080x576 with 1 Axes>"
            ]
          },
          "metadata": {}
        }
      ]
    },
    {
      "cell_type": "markdown",
      "source": [
        "## 02. Returns\n",
        "\n",
        "Normalized prices help to compare financial instruments... but they are limited when it comes to measuring/comparing performance in more detail\n",
        "\n",
        "The relative price changes **(returns)** are similar to interest rate"
      ],
      "metadata": {
        "id": "zfLUkAsuqoZv"
      }
    },
    {
      "cell_type": "code",
      "source": [
        "import pandas as pd\n",
        "pd.options.display.float_format = '{:.4f}'.format "
      ],
      "metadata": {
        "id": "oKW5fxCArypX"
      },
      "execution_count": 19,
      "outputs": []
    },
    {
      "cell_type": "code",
      "source": [
        "msft = close.MSFT.dropna().to_frame().copy()\n",
        "msft.rename(columns = {'MSFT':'price'},inplace = True)\n",
        "msft.head()"
      ],
      "metadata": {
        "colab": {
          "base_uri": "https://localhost:8080/",
          "height": 238
        },
        "id": "p1QZFF_LsBWm",
        "outputId": "f90a9f6f-4e48-4e18-c7c2-8b913d5e517c"
      },
      "execution_count": 28,
      "outputs": [
        {
          "output_type": "execute_result",
          "data": {
            "text/html": [
              "<div>\n",
              "<style scoped>\n",
              "    .dataframe tbody tr th:only-of-type {\n",
              "        vertical-align: middle;\n",
              "    }\n",
              "\n",
              "    .dataframe tbody tr th {\n",
              "        vertical-align: top;\n",
              "    }\n",
              "\n",
              "    .dataframe thead th {\n",
              "        text-align: right;\n",
              "    }\n",
              "</style>\n",
              "<table border=\"1\" class=\"dataframe\">\n",
              "  <thead>\n",
              "    <tr style=\"text-align: right;\">\n",
              "      <th></th>\n",
              "      <th>price</th>\n",
              "    </tr>\n",
              "    <tr>\n",
              "      <th>Date</th>\n",
              "      <th></th>\n",
              "    </tr>\n",
              "  </thead>\n",
              "  <tbody>\n",
              "    <tr>\n",
              "      <th>2020-12-10</th>\n",
              "      <td>210.5200</td>\n",
              "    </tr>\n",
              "    <tr>\n",
              "      <th>2020-12-11</th>\n",
              "      <td>213.2600</td>\n",
              "    </tr>\n",
              "    <tr>\n",
              "      <th>2020-12-14</th>\n",
              "      <td>214.2000</td>\n",
              "    </tr>\n",
              "    <tr>\n",
              "      <th>2020-12-15</th>\n",
              "      <td>214.1300</td>\n",
              "    </tr>\n",
              "    <tr>\n",
              "      <th>2020-12-16</th>\n",
              "      <td>219.2800</td>\n",
              "    </tr>\n",
              "  </tbody>\n",
              "</table>\n",
              "</div>"
            ],
            "text/plain": [
              "              price\n",
              "Date               \n",
              "2020-12-10 210.5200\n",
              "2020-12-11 213.2600\n",
              "2020-12-14 214.2000\n",
              "2020-12-15 214.1300\n",
              "2020-12-16 219.2800"
            ]
          },
          "metadata": {},
          "execution_count": 28
        }
      ]
    },
    {
      "cell_type": "markdown",
      "source": [
        "### 02.01. Alternative 1"
      ],
      "metadata": {
        "id": "jE0g96BvuQzn"
      }
    },
    {
      "cell_type": "code",
      "source": [
        "msft_shifted = msft.shift(periods = 1)\n",
        "msft['price_lag1'] = msft_shifted\n",
        "msft.head()"
      ],
      "metadata": {
        "colab": {
          "base_uri": "https://localhost:8080/",
          "height": 238
        },
        "id": "k-LA3R6ZsyQ3",
        "outputId": "72759fc1-106a-415e-99d9-e8efaf72df24"
      },
      "execution_count": 31,
      "outputs": [
        {
          "output_type": "execute_result",
          "data": {
            "text/html": [
              "<div>\n",
              "<style scoped>\n",
              "    .dataframe tbody tr th:only-of-type {\n",
              "        vertical-align: middle;\n",
              "    }\n",
              "\n",
              "    .dataframe tbody tr th {\n",
              "        vertical-align: top;\n",
              "    }\n",
              "\n",
              "    .dataframe thead th {\n",
              "        text-align: right;\n",
              "    }\n",
              "</style>\n",
              "<table border=\"1\" class=\"dataframe\">\n",
              "  <thead>\n",
              "    <tr style=\"text-align: right;\">\n",
              "      <th></th>\n",
              "      <th>price</th>\n",
              "      <th>price_lag1</th>\n",
              "    </tr>\n",
              "    <tr>\n",
              "      <th>Date</th>\n",
              "      <th></th>\n",
              "      <th></th>\n",
              "    </tr>\n",
              "  </thead>\n",
              "  <tbody>\n",
              "    <tr>\n",
              "      <th>2020-12-10</th>\n",
              "      <td>210.5200</td>\n",
              "      <td>nan</td>\n",
              "    </tr>\n",
              "    <tr>\n",
              "      <th>2020-12-11</th>\n",
              "      <td>213.2600</td>\n",
              "      <td>210.5200</td>\n",
              "    </tr>\n",
              "    <tr>\n",
              "      <th>2020-12-14</th>\n",
              "      <td>214.2000</td>\n",
              "      <td>213.2600</td>\n",
              "    </tr>\n",
              "    <tr>\n",
              "      <th>2020-12-15</th>\n",
              "      <td>214.1300</td>\n",
              "      <td>214.2000</td>\n",
              "    </tr>\n",
              "    <tr>\n",
              "      <th>2020-12-16</th>\n",
              "      <td>219.2800</td>\n",
              "      <td>214.1300</td>\n",
              "    </tr>\n",
              "  </tbody>\n",
              "</table>\n",
              "</div>"
            ],
            "text/plain": [
              "              price  price_lag1\n",
              "Date                           \n",
              "2020-12-10 210.5200         nan\n",
              "2020-12-11 213.2600    210.5200\n",
              "2020-12-14 214.2000    213.2600\n",
              "2020-12-15 214.1300    214.2000\n",
              "2020-12-16 219.2800    214.1300"
            ]
          },
          "metadata": {},
          "execution_count": 31
        }
      ]
    },
    {
      "cell_type": "code",
      "source": [
        "msft.price.div(msft.price_lag1) -1 "
      ],
      "metadata": {
        "colab": {
          "base_uri": "https://localhost:8080/"
        },
        "id": "WTqu0op9uPTo",
        "outputId": "7a744bfc-9d2e-48d7-e518-b5ca3ece9f0c"
      },
      "execution_count": 34,
      "outputs": [
        {
          "output_type": "execute_result",
          "data": {
            "text/plain": [
              "Date\n",
              "2020-12-10       nan\n",
              "2020-12-11    0.0130\n",
              "2020-12-14    0.0044\n",
              "2020-12-15   -0.0003\n",
              "2020-12-16    0.0241\n",
              "               ...  \n",
              "2021-12-06    0.0098\n",
              "2021-12-07    0.0268\n",
              "2021-12-08    0.0001\n",
              "2021-12-09   -0.0056\n",
              "2021-12-10    0.0283\n",
              "Length: 253, dtype: float64"
            ]
          },
          "metadata": {},
          "execution_count": 34
        }
      ]
    },
    {
      "cell_type": "markdown",
      "source": [
        "### 02.02. Alternative 2"
      ],
      "metadata": {
        "id": "DAdpPFuMuyp7"
      }
    },
    {
      "cell_type": "code",
      "source": [
        "\n",
        "msft['returns'] = msft.price.pct_change(periods = 1)\n",
        "msft.head()"
      ],
      "metadata": {
        "colab": {
          "base_uri": "https://localhost:8080/",
          "height": 238
        },
        "id": "MjwF1NJOvDN0",
        "outputId": "532c1bd6-e8e2-44e6-e7d4-743a4e68af09"
      },
      "execution_count": 35,
      "outputs": [
        {
          "output_type": "execute_result",
          "data": {
            "text/html": [
              "<div>\n",
              "<style scoped>\n",
              "    .dataframe tbody tr th:only-of-type {\n",
              "        vertical-align: middle;\n",
              "    }\n",
              "\n",
              "    .dataframe tbody tr th {\n",
              "        vertical-align: top;\n",
              "    }\n",
              "\n",
              "    .dataframe thead th {\n",
              "        text-align: right;\n",
              "    }\n",
              "</style>\n",
              "<table border=\"1\" class=\"dataframe\">\n",
              "  <thead>\n",
              "    <tr style=\"text-align: right;\">\n",
              "      <th></th>\n",
              "      <th>price</th>\n",
              "      <th>price_lag1</th>\n",
              "      <th>returns</th>\n",
              "    </tr>\n",
              "    <tr>\n",
              "      <th>Date</th>\n",
              "      <th></th>\n",
              "      <th></th>\n",
              "      <th></th>\n",
              "    </tr>\n",
              "  </thead>\n",
              "  <tbody>\n",
              "    <tr>\n",
              "      <th>2020-12-10</th>\n",
              "      <td>210.5200</td>\n",
              "      <td>nan</td>\n",
              "      <td>nan</td>\n",
              "    </tr>\n",
              "    <tr>\n",
              "      <th>2020-12-11</th>\n",
              "      <td>213.2600</td>\n",
              "      <td>210.5200</td>\n",
              "      <td>0.0130</td>\n",
              "    </tr>\n",
              "    <tr>\n",
              "      <th>2020-12-14</th>\n",
              "      <td>214.2000</td>\n",
              "      <td>213.2600</td>\n",
              "      <td>0.0044</td>\n",
              "    </tr>\n",
              "    <tr>\n",
              "      <th>2020-12-15</th>\n",
              "      <td>214.1300</td>\n",
              "      <td>214.2000</td>\n",
              "      <td>-0.0003</td>\n",
              "    </tr>\n",
              "    <tr>\n",
              "      <th>2020-12-16</th>\n",
              "      <td>219.2800</td>\n",
              "      <td>214.1300</td>\n",
              "      <td>0.0241</td>\n",
              "    </tr>\n",
              "  </tbody>\n",
              "</table>\n",
              "</div>"
            ],
            "text/plain": [
              "              price  price_lag1  returns\n",
              "Date                                    \n",
              "2020-12-10 210.5200         nan      nan\n",
              "2020-12-11 213.2600    210.5200   0.0130\n",
              "2020-12-14 214.2000    213.2600   0.0044\n",
              "2020-12-15 214.1300    214.2000  -0.0003\n",
              "2020-12-16 219.2800    214.1300   0.0241"
            ]
          },
          "metadata": {},
          "execution_count": 35
        }
      ]
    },
    {
      "cell_type": "code",
      "source": [
        "msft.returns.cumsum().plot()\n",
        "plt.show()"
      ],
      "metadata": {
        "colab": {
          "base_uri": "https://localhost:8080/",
          "height": 348
        },
        "id": "19W45agwvs9L",
        "outputId": "ff726e85-36e8-4ff7-a932-cbfc2a0015dc"
      },
      "execution_count": 38,
      "outputs": [
        {
          "output_type": "display_data",
          "data": {
            "image/png": "[encoded data removed]",
            "text/plain": [
              "<Figure size 576x396 with 1 Axes>"
            ]
          },
          "metadata": {}
        }
      ]
    }
  ]
}