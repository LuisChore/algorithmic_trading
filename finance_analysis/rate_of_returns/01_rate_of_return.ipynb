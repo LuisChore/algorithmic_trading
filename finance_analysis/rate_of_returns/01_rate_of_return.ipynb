{
  "nbformat": 4,
  "nbformat_minor": 0,
  "metadata": {
    "colab": {
      "name": "01_rate_of_return.ipynb",
      "provenance": [],
      "collapsed_sections": [],
      "toc_visible": true,
      "authorship_tag": "ABX9TyOVtjagwTiBvobaBEKdryli"
    },
    "kernelspec": {
      "name": "python3",
      "display_name": "Python 3"
    },
    "language_info": {
      "name": "python"
    }
  },
  "cells": [
    {
      "cell_type": "markdown",
      "source": [
        "## Annually Return\n",
        "\n",
        "Calculate annual return based on other timeframe rates"
      ],
      "metadata": {
        "id": "Gli_hjgom511"
      }
    },
    {
      "cell_type": "code",
      "execution_count": 2,
      "metadata": {
        "id": "sr3uToUQo6IY",
        "colab": {
          "base_uri": "https://localhost:8080/"
        },
        "outputId": "2a2a7737-d726-4948-b9b4-295429dc3122"
      },
      "outputs": [
        {
          "output_type": "stream",
          "name": "stdout",
          "text": [
            "Security Return: 11.570174904772411%\n"
          ]
        }
      ],
      "source": [
        "def annual_return(rate,periods):\n",
        "  aux = (rate + 1)**periods - 1\n",
        "  return aux * 100\n",
        "\n",
        "#example\n",
        "daily_return = 0.0003\n",
        "periods = 365\n",
        "print(\"Security Return: {}%\".format(annual_return(daily_return,periods)))"
      ]
    },
    {
      "cell_type": "markdown",
      "source": [
        "## Daily Simple Rate of Returns / Daily Simple Returns\n",
        "\n",
        "$Simple\\;Rate\\; of\\; Return = \\frac{P_t - P_0}{P_0}$"
      ],
      "metadata": {
        "id": "cislyplToHXF"
      }
    },
    {
      "cell_type": "markdown",
      "source": [
        "It is preferable to use simple returns when we calculare the returns of multiple securities."
      ],
      "metadata": {
        "id": "R7Z6r2_zRD3V"
      }
    },
    {
      "cell_type": "code",
      "source": [
        "!pip install --upgrade pandas\n",
        "!pip install --upgrade pandas-datareader"
      ],
      "metadata": {
        "id": "Uou-GLUY647E"
      },
      "execution_count": null,
      "outputs": []
    },
    {
      "cell_type": "code",
      "source": [
        "import numpy as  np\n",
        "import pandas_datareader.data as wb\n",
        "import matplotlib.pyplot as plt"
      ],
      "metadata": {
        "id": "WMjYlLQYoKd4"
      },
      "execution_count": 4,
      "outputs": []
    },
    {
      "cell_type": "code",
      "source": [
        "'''\n",
        "returns the historical price data of a company, including the percentage daily \n",
        "change, daily simple return\n",
        "'''\n",
        "def simple_return(ticket,data_source,start_year):\n",
        "  info = wb.DataReader(ticket,data_source,start = start_year)\n",
        "  info['simple_return'] = (info['Adj Close'] / info['Adj Close'].shift(1))-1\n",
        "  return info"
      ],
      "metadata": {
        "id": "HSJxHTvcoTlu"
      },
      "execution_count": 5,
      "outputs": []
    },
    {
      "cell_type": "code",
      "source": [
        "AMZN = simple_return('AMZN','yahoo','2010')"
      ],
      "metadata": {
        "id": "Op2yICdA4rGJ"
      },
      "execution_count": 6,
      "outputs": []
    },
    {
      "cell_type": "code",
      "source": [
        "AMZN.describe()"
      ],
      "metadata": {
        "colab": {
          "base_uri": "https://localhost:8080/",
          "height": 300
        },
        "id": "JRilQ80a7PTJ",
        "outputId": "fc04d095-e5d6-4ec0-cc63-46a82eb2201d"
      },
      "execution_count": 7,
      "outputs": [
        {
          "output_type": "execute_result",
          "data": {
            "text/plain": [
              "              High          Low         Open        Close        Volume  \\\n",
              "count  3134.000000  3134.000000  3134.000000  3134.000000  3.134000e+03   \n",
              "mean     57.205789    55.890815    56.587449    56.557612  8.914266e+07   \n",
              "std      54.605184    53.285811    53.989015    53.932315  5.377968e+07   \n",
              "min       5.564500     5.290000     5.296500     5.430500  1.614402e+07   \n",
              "25%      13.188875    12.896250    13.066250    13.044625  5.633450e+07   \n",
              "50%      33.469250    32.849501    33.178251    33.148500  7.530100e+07   \n",
              "75%      90.921999    89.212627    90.050375    90.037750  1.050725e+08   \n",
              "max     188.654007   184.839493   187.199997   186.570496  8.484220e+08   \n",
              "\n",
              "         Adj Close  simple_return  \n",
              "count  3134.000000    3133.000000  \n",
              "mean     56.557612       0.001079  \n",
              "std      53.932315       0.020326  \n",
              "min       5.430500      -0.140494  \n",
              "25%      13.044625      -0.008714  \n",
              "50%      33.148500       0.000974  \n",
              "75%      90.037750       0.011472  \n",
              "max     186.570496       0.157457  "
            ],
            "text/html": [
              "\n",
              "  <div id=\"df-d6d9a37a-5383-4070-b959-3b1d0e4834a8\">\n",
              "    <div class=\"colab-df-container\">\n",
              "      <div>\n",
              "<style scoped>\n",
              "    .dataframe tbody tr th:only-of-type {\n",
              "        vertical-align: middle;\n",
              "    }\n",
              "\n",
              "    .dataframe tbody tr th {\n",
              "        vertical-align: top;\n",
              "    }\n",
              "\n",
              "    .dataframe thead th {\n",
              "        text-align: right;\n",
              "    }\n",
              "</style>\n",
              "<table border=\"1\" class=\"dataframe\">\n",
              "  <thead>\n",
              "    <tr style=\"text-align: right;\">\n",
              "      <th></th>\n",
              "      <th>High</th>\n",
              "      <th>Low</th>\n",
              "      <th>Open</th>\n",
              "      <th>Close</th>\n",
              "      <th>Volume</th>\n",
              "      <th>Adj Close</th>\n",
              "      <th>simple_return</th>\n",
              "    </tr>\n",
              "  </thead>\n",
              "  <tbody>\n",
              "    <tr>\n",
              "      <th>count</th>\n",
              "      <td>3134.000000</td>\n",
              "      <td>3134.000000</td>\n",
              "      <td>3134.000000</td>\n",
              "      <td>3134.000000</td>\n",
              "      <td>3.134000e+03</td>\n",
              "      <td>3134.000000</td>\n",
              "      <td>3133.000000</td>\n",
              "    </tr>\n",
              "    <tr>\n",
              "      <th>mean</th>\n",
              "      <td>57.205789</td>\n",
              "      <td>55.890815</td>\n",
              "      <td>56.587449</td>\n",
              "      <td>56.557612</td>\n",
              "      <td>8.914266e+07</td>\n",
              "      <td>56.557612</td>\n",
              "      <td>0.001079</td>\n",
              "    </tr>\n",
              "    <tr>\n",
              "      <th>std</th>\n",
              "      <td>54.605184</td>\n",
              "      <td>53.285811</td>\n",
              "      <td>53.989015</td>\n",
              "      <td>53.932315</td>\n",
              "      <td>5.377968e+07</td>\n",
              "      <td>53.932315</td>\n",
              "      <td>0.020326</td>\n",
              "    </tr>\n",
              "    <tr>\n",
              "      <th>min</th>\n",
              "      <td>5.564500</td>\n",
              "      <td>5.290000</td>\n",
              "      <td>5.296500</td>\n",
              "      <td>5.430500</td>\n",
              "      <td>1.614402e+07</td>\n",
              "      <td>5.430500</td>\n",
              "      <td>-0.140494</td>\n",
              "    </tr>\n",
              "    <tr>\n",
              "      <th>25%</th>\n",
              "      <td>13.188875</td>\n",
              "      <td>12.896250</td>\n",
              "      <td>13.066250</td>\n",
              "      <td>13.044625</td>\n",
              "      <td>5.633450e+07</td>\n",
              "      <td>13.044625</td>\n",
              "      <td>-0.008714</td>\n",
              "    </tr>\n",
              "    <tr>\n",
              "      <th>50%</th>\n",
              "      <td>33.469250</td>\n",
              "      <td>32.849501</td>\n",
              "      <td>33.178251</td>\n",
              "      <td>33.148500</td>\n",
              "      <td>7.530100e+07</td>\n",
              "      <td>33.148500</td>\n",
              "      <td>0.000974</td>\n",
              "    </tr>\n",
              "    <tr>\n",
              "      <th>75%</th>\n",
              "      <td>90.921999</td>\n",
              "      <td>89.212627</td>\n",
              "      <td>90.050375</td>\n",
              "      <td>90.037750</td>\n",
              "      <td>1.050725e+08</td>\n",
              "      <td>90.037750</td>\n",
              "      <td>0.011472</td>\n",
              "    </tr>\n",
              "    <tr>\n",
              "      <th>max</th>\n",
              "      <td>188.654007</td>\n",
              "      <td>184.839493</td>\n",
              "      <td>187.199997</td>\n",
              "      <td>186.570496</td>\n",
              "      <td>8.484220e+08</td>\n",
              "      <td>186.570496</td>\n",
              "      <td>0.157457</td>\n",
              "    </tr>\n",
              "  </tbody>\n",
              "</table>\n",
              "</div>\n",
              "      <button class=\"colab-df-convert\" onclick=\"convertToInteractive('df-d6d9a37a-5383-4070-b959-3b1d0e4834a8')\"\n",
              "              title=\"Convert this dataframe to an interactive table.\"\n",
              "              style=\"display:none;\">\n",
              "        \n",
              "  <svg xmlns=\"http://www.w3.org/2000/svg\" height=\"24px\"viewBox=\"0 0 24 24\"\n",
              "       width=\"24px\">\n",
              "    <path d=\"M0 0h24v24H0V0z\" fill=\"none\"/>\n",
              "    <path d=\"M18.56 5.44l.94 2.06.94-2.06 2.06-.94-2.06-.94-.94-2.06-.94 2.06-2.06.94zm-11 1L8.5 8.5l.94-2.06 2.06-.94-2.06-.94L8.5 2.5l-.94 2.06-2.06.94zm10 10l.94 2.06.94-2.06 2.06-.94-2.06-.94-.94-2.06-.94 2.06-2.06.94z\"/><path d=\"M17.41 7.96l-1.37-1.37c-.4-.4-.92-.59-1.43-.59-.52 0-1.04.2-1.43.59L10.3 9.45l-7.72 7.72c-.78.78-.78 2.05 0 2.83L4 21.41c.39.39.9.59 1.41.59.51 0 1.02-.2 1.41-.59l7.78-7.78 2.81-2.81c.8-.78.8-2.07 0-2.86zM5.41 20L4 18.59l7.72-7.72 1.47 1.35L5.41 20z\"/>\n",
              "  </svg>\n",
              "      </button>\n",
              "      \n",
              "  <style>\n",
              "    .colab-df-container {\n",
              "      display:flex;\n",
              "      flex-wrap:wrap;\n",
              "      gap: 12px;\n",
              "    }\n",
              "\n",
              "    .colab-df-convert {\n",
              "      background-color: #E8F0FE;\n",
              "      border: none;\n",
              "      border-radius: 50%;\n",
              "      cursor: pointer;\n",
              "      display: none;\n",
              "      fill: #1967D2;\n",
              "      height: 32px;\n",
              "      padding: 0 0 0 0;\n",
              "      width: 32px;\n",
              "    }\n",
              "\n",
              "    .colab-df-convert:hover {\n",
              "      background-color: #E2EBFA;\n",
              "      box-shadow: 0px 1px 2px rgba(60, 64, 67, 0.3), 0px 1px 3px 1px rgba(60, 64, 67, 0.15);\n",
              "      fill: #174EA6;\n",
              "    }\n",
              "\n",
              "    [theme=dark] .colab-df-convert {\n",
              "      background-color: #3B4455;\n",
              "      fill: #D2E3FC;\n",
              "    }\n",
              "\n",
              "    [theme=dark] .colab-df-convert:hover {\n",
              "      background-color: #434B5C;\n",
              "      box-shadow: 0px 1px 3px 1px rgba(0, 0, 0, 0.15);\n",
              "      filter: drop-shadow(0px 1px 2px rgba(0, 0, 0, 0.3));\n",
              "      fill: #FFFFFF;\n",
              "    }\n",
              "  </style>\n",
              "\n",
              "      <script>\n",
              "        const buttonEl =\n",
              "          document.querySelector('#df-d6d9a37a-5383-4070-b959-3b1d0e4834a8 button.colab-df-convert');\n",
              "        buttonEl.style.display =\n",
              "          google.colab.kernel.accessAllowed ? 'block' : 'none';\n",
              "\n",
              "        async function convertToInteractive(key) {\n",
              "          const element = document.querySelector('#df-d6d9a37a-5383-4070-b959-3b1d0e4834a8');\n",
              "          const dataTable =\n",
              "            await google.colab.kernel.invokeFunction('convertToInteractive',\n",
              "                                                     [key], {});\n",
              "          if (!dataTable) return;\n",
              "\n",
              "          const docLinkHtml = 'Like what you see? Visit the ' +\n",
              "            '<a target=\"_blank\" href=https://colab.research.google.com/notebooks/data_table.ipynb>data table notebook</a>'\n",
              "            + ' to learn more about interactive tables.';\n",
              "          element.innerHTML = '';\n",
              "          dataTable['output_type'] = 'display_data';\n",
              "          await google.colab.output.renderOutput(dataTable, element);\n",
              "          const docLink = document.createElement('div');\n",
              "          docLink.innerHTML = docLinkHtml;\n",
              "          element.appendChild(docLink);\n",
              "        }\n",
              "      </script>\n",
              "    </div>\n",
              "  </div>\n",
              "  "
            ]
          },
          "metadata": {},
          "execution_count": 7
        }
      ]
    },
    {
      "cell_type": "code",
      "source": [
        "AMZN.tail(10)"
      ],
      "metadata": {
        "colab": {
          "base_uri": "https://localhost:8080/",
          "height": 394
        },
        "id": "WPEwOrxE8V4y",
        "outputId": "7dae5b4e-20c2-4a78-d4d7-5d9552d54832"
      },
      "execution_count": 8,
      "outputs": [
        {
          "output_type": "execute_result",
          "data": {
            "text/plain": [
              "                  High         Low        Open       Close       Volume  \\\n",
              "Date                                                                      \n",
              "2022-06-01  125.179001  120.622498  122.255997  121.683998  127528000.0   \n",
              "2022-06-02  125.610001  120.044998  121.683998  125.511002  100560000.0   \n",
              "2022-06-03  124.400002  121.046501  124.199997  122.349998   97604000.0   \n",
              "2022-06-06  128.990005  123.809998  125.250000  124.790001  135269000.0   \n",
              "2022-06-07  124.099998  120.629997  122.010002  123.000000   85156700.0   \n",
              "2022-06-08  123.750000  120.750000  122.610001  121.180000   64926600.0   \n",
              "2022-06-09  121.300003  116.099998  119.989998  116.150002   67029800.0   \n",
              "2022-06-10  114.500000  109.050003  113.419998  109.650002   87266000.0   \n",
              "2022-06-13  106.540001  101.860001  104.190002  103.669998   99135200.0   \n",
              "2022-06-14  104.870003  102.589996  104.190002  103.110001   16144024.0   \n",
              "\n",
              "             Adj Close  simple_return  \n",
              "Date                                   \n",
              "2022-06-01  121.683998       0.012266  \n",
              "2022-06-02  125.511002       0.031450  \n",
              "2022-06-03  122.349998      -0.025185  \n",
              "2022-06-06  124.790001       0.019943  \n",
              "2022-06-07  123.000000      -0.014344  \n",
              "2022-06-08  121.180000      -0.014797  \n",
              "2022-06-09  116.150002      -0.041508  \n",
              "2022-06-10  109.650002      -0.055962  \n",
              "2022-06-13  103.669998      -0.054537  \n",
              "2022-06-14  103.110001      -0.005402  "
            ],
            "text/html": [
              "\n",
              "  <div id=\"df-89772e90-03dc-468b-a0b8-48bc98b5302d\">\n",
              "    <div class=\"colab-df-container\">\n",
              "      <div>\n",
              "<style scoped>\n",
              "    .dataframe tbody tr th:only-of-type {\n",
              "        vertical-align: middle;\n",
              "    }\n",
              "\n",
              "    .dataframe tbody tr th {\n",
              "        vertical-align: top;\n",
              "    }\n",
              "\n",
              "    .dataframe thead th {\n",
              "        text-align: right;\n",
              "    }\n",
              "</style>\n",
              "<table border=\"1\" class=\"dataframe\">\n",
              "  <thead>\n",
              "    <tr style=\"text-align: right;\">\n",
              "      <th></th>\n",
              "      <th>High</th>\n",
              "      <th>Low</th>\n",
              "      <th>Open</th>\n",
              "      <th>Close</th>\n",
              "      <th>Volume</th>\n",
              "      <th>Adj Close</th>\n",
              "      <th>simple_return</th>\n",
              "    </tr>\n",
              "    <tr>\n",
              "      <th>Date</th>\n",
              "      <th></th>\n",
              "      <th></th>\n",
              "      <th></th>\n",
              "      <th></th>\n",
              "      <th></th>\n",
              "      <th></th>\n",
              "      <th></th>\n",
              "    </tr>\n",
              "  </thead>\n",
              "  <tbody>\n",
              "    <tr>\n",
              "      <th>2022-06-01</th>\n",
              "      <td>125.179001</td>\n",
              "      <td>120.622498</td>\n",
              "      <td>122.255997</td>\n",
              "      <td>121.683998</td>\n",
              "      <td>127528000.0</td>\n",
              "      <td>121.683998</td>\n",
              "      <td>0.012266</td>\n",
              "    </tr>\n",
              "    <tr>\n",
              "      <th>2022-06-02</th>\n",
              "      <td>125.610001</td>\n",
              "      <td>120.044998</td>\n",
              "      <td>121.683998</td>\n",
              "      <td>125.511002</td>\n",
              "      <td>100560000.0</td>\n",
              "      <td>125.511002</td>\n",
              "      <td>0.031450</td>\n",
              "    </tr>\n",
              "    <tr>\n",
              "      <th>2022-06-03</th>\n",
              "      <td>124.400002</td>\n",
              "      <td>121.046501</td>\n",
              "      <td>124.199997</td>\n",
              "      <td>122.349998</td>\n",
              "      <td>97604000.0</td>\n",
              "      <td>122.349998</td>\n",
              "      <td>-0.025185</td>\n",
              "    </tr>\n",
              "    <tr>\n",
              "      <th>2022-06-06</th>\n",
              "      <td>128.990005</td>\n",
              "      <td>123.809998</td>\n",
              "      <td>125.250000</td>\n",
              "      <td>124.790001</td>\n",
              "      <td>135269000.0</td>\n",
              "      <td>124.790001</td>\n",
              "      <td>0.019943</td>\n",
              "    </tr>\n",
              "    <tr>\n",
              "      <th>2022-06-07</th>\n",
              "      <td>124.099998</td>\n",
              "      <td>120.629997</td>\n",
              "      <td>122.010002</td>\n",
              "      <td>123.000000</td>\n",
              "      <td>85156700.0</td>\n",
              "      <td>123.000000</td>\n",
              "      <td>-0.014344</td>\n",
              "    </tr>\n",
              "    <tr>\n",
              "      <th>2022-06-08</th>\n",
              "      <td>123.750000</td>\n",
              "      <td>120.750000</td>\n",
              "      <td>122.610001</td>\n",
              "      <td>121.180000</td>\n",
              "      <td>64926600.0</td>\n",
              "      <td>121.180000</td>\n",
              "      <td>-0.014797</td>\n",
              "    </tr>\n",
              "    <tr>\n",
              "      <th>2022-06-09</th>\n",
              "      <td>121.300003</td>\n",
              "      <td>116.099998</td>\n",
              "      <td>119.989998</td>\n",
              "      <td>116.150002</td>\n",
              "      <td>67029800.0</td>\n",
              "      <td>116.150002</td>\n",
              "      <td>-0.041508</td>\n",
              "    </tr>\n",
              "    <tr>\n",
              "      <th>2022-06-10</th>\n",
              "      <td>114.500000</td>\n",
              "      <td>109.050003</td>\n",
              "      <td>113.419998</td>\n",
              "      <td>109.650002</td>\n",
              "      <td>87266000.0</td>\n",
              "      <td>109.650002</td>\n",
              "      <td>-0.055962</td>\n",
              "    </tr>\n",
              "    <tr>\n",
              "      <th>2022-06-13</th>\n",
              "      <td>106.540001</td>\n",
              "      <td>101.860001</td>\n",
              "      <td>104.190002</td>\n",
              "      <td>103.669998</td>\n",
              "      <td>99135200.0</td>\n",
              "      <td>103.669998</td>\n",
              "      <td>-0.054537</td>\n",
              "    </tr>\n",
              "    <tr>\n",
              "      <th>2022-06-14</th>\n",
              "      <td>104.870003</td>\n",
              "      <td>102.589996</td>\n",
              "      <td>104.190002</td>\n",
              "      <td>103.110001</td>\n",
              "      <td>16144024.0</td>\n",
              "      <td>103.110001</td>\n",
              "      <td>-0.005402</td>\n",
              "    </tr>\n",
              "  </tbody>\n",
              "</table>\n",
              "</div>\n",
              "      <button class=\"colab-df-convert\" onclick=\"convertToInteractive('df-89772e90-03dc-468b-a0b8-48bc98b5302d')\"\n",
              "              title=\"Convert this dataframe to an interactive table.\"\n",
              "              style=\"display:none;\">\n",
              "        \n",
              "  <svg xmlns=\"http://www.w3.org/2000/svg\" height=\"24px\"viewBox=\"0 0 24 24\"\n",
              "       width=\"24px\">\n",
              "    <path d=\"M0 0h24v24H0V0z\" fill=\"none\"/>\n",
              "    <path d=\"M18.56 5.44l.94 2.06.94-2.06 2.06-.94-2.06-.94-.94-2.06-.94 2.06-2.06.94zm-11 1L8.5 8.5l.94-2.06 2.06-.94-2.06-.94L8.5 2.5l-.94 2.06-2.06.94zm10 10l.94 2.06.94-2.06 2.06-.94-2.06-.94-.94-2.06-.94 2.06-2.06.94z\"/><path d=\"M17.41 7.96l-1.37-1.37c-.4-.4-.92-.59-1.43-.59-.52 0-1.04.2-1.43.59L10.3 9.45l-7.72 7.72c-.78.78-.78 2.05 0 2.83L4 21.41c.39.39.9.59 1.41.59.51 0 1.02-.2 1.41-.59l7.78-7.78 2.81-2.81c.8-.78.8-2.07 0-2.86zM5.41 20L4 18.59l7.72-7.72 1.47 1.35L5.41 20z\"/>\n",
              "  </svg>\n",
              "      </button>\n",
              "      \n",
              "  <style>\n",
              "    .colab-df-container {\n",
              "      display:flex;\n",
              "      flex-wrap:wrap;\n",
              "      gap: 12px;\n",
              "    }\n",
              "\n",
              "    .colab-df-convert {\n",
              "      background-color: #E8F0FE;\n",
              "      border: none;\n",
              "      border-radius: 50%;\n",
              "      cursor: pointer;\n",
              "      display: none;\n",
              "      fill: #1967D2;\n",
              "      height: 32px;\n",
              "      padding: 0 0 0 0;\n",
              "      width: 32px;\n",
              "    }\n",
              "\n",
              "    .colab-df-convert:hover {\n",
              "      background-color: #E2EBFA;\n",
              "      box-shadow: 0px 1px 2px rgba(60, 64, 67, 0.3), 0px 1px 3px 1px rgba(60, 64, 67, 0.15);\n",
              "      fill: #174EA6;\n",
              "    }\n",
              "\n",
              "    [theme=dark] .colab-df-convert {\n",
              "      background-color: #3B4455;\n",
              "      fill: #D2E3FC;\n",
              "    }\n",
              "\n",
              "    [theme=dark] .colab-df-convert:hover {\n",
              "      background-color: #434B5C;\n",
              "      box-shadow: 0px 1px 3px 1px rgba(0, 0, 0, 0.15);\n",
              "      filter: drop-shadow(0px 1px 2px rgba(0, 0, 0, 0.3));\n",
              "      fill: #FFFFFF;\n",
              "    }\n",
              "  </style>\n",
              "\n",
              "      <script>\n",
              "        const buttonEl =\n",
              "          document.querySelector('#df-89772e90-03dc-468b-a0b8-48bc98b5302d button.colab-df-convert');\n",
              "        buttonEl.style.display =\n",
              "          google.colab.kernel.accessAllowed ? 'block' : 'none';\n",
              "\n",
              "        async function convertToInteractive(key) {\n",
              "          const element = document.querySelector('#df-89772e90-03dc-468b-a0b8-48bc98b5302d');\n",
              "          const dataTable =\n",
              "            await google.colab.kernel.invokeFunction('convertToInteractive',\n",
              "                                                     [key], {});\n",
              "          if (!dataTable) return;\n",
              "\n",
              "          const docLinkHtml = 'Like what you see? Visit the ' +\n",
              "            '<a target=\"_blank\" href=https://colab.research.google.com/notebooks/data_table.ipynb>data table notebook</a>'\n",
              "            + ' to learn more about interactive tables.';\n",
              "          element.innerHTML = '';\n",
              "          dataTable['output_type'] = 'display_data';\n",
              "          await google.colab.output.renderOutput(dataTable, element);\n",
              "          const docLink = document.createElement('div');\n",
              "          docLink.innerHTML = docLinkHtml;\n",
              "          element.appendChild(docLink);\n",
              "        }\n",
              "      </script>\n",
              "    </div>\n",
              "  </div>\n",
              "  "
            ]
          },
          "metadata": {},
          "execution_count": 8
        }
      ]
    },
    {
      "cell_type": "markdown",
      "source": [
        "### 00. Price Plot"
      ],
      "metadata": {
        "id": "PGbdt70LIwow"
      }
    },
    {
      "cell_type": "code",
      "source": [
        "AMZN['Adj Close'].plot(figsize = (15,12))\n",
        "plt.show()"
      ],
      "metadata": {
        "colab": {
          "base_uri": "https://localhost:8080/",
          "height": 661
        },
        "id": "7hYB6z-qIeoY",
        "outputId": "ecf1c468-b343-4e0c-9fe7-6c800d347d95"
      },
      "execution_count": 9,
      "outputs": [
        {
          "output_type": "display_data",
          "data": {
            "text/plain": [
              "<Figure size 1080x864 with 1 Axes>"
            ],
            "image/png": "[encoded data removed]"
          },
          "metadata": {
            "needs_background": "light"
          }
        }
      ]
    },
    {
      "cell_type": "markdown",
      "source": [
        "### 01. Plot Daily Simple Rate of Returns"
      ],
      "metadata": {
        "id": "3nZ2RPXIBtOc"
      }
    },
    {
      "cell_type": "code",
      "source": [
        "AMZN['simple_return'].plot(figsize=(8,5))\n",
        "plt.show()"
      ],
      "metadata": {
        "colab": {
          "base_uri": "https://localhost:8080/",
          "height": 318
        },
        "id": "aALkMkjPBwsh",
        "outputId": "47bc65c2-3dd6-438f-f7dd-2387891d4cb3"
      },
      "execution_count": 10,
      "outputs": [
        {
          "output_type": "display_data",
          "data": {
            "text/plain": [
              "<Figure size 576x360 with 1 Axes>"
            ],
            "image/png": "[encoded data removed]"
          },
          "metadata": {
            "needs_background": "light"
          }
        }
      ]
    },
    {
      "cell_type": "markdown",
      "source": [
        "### 02. Average Daily Simple Rate of Return"
      ],
      "metadata": {
        "id": "Isca5M-WCm9p"
      }
    },
    {
      "cell_type": "code",
      "source": [
        "avg_return_d = AMZN['simple_return'].mean()\n",
        "print(\"Average Daily Simple Rate of Return: \" + str(round(avg_return_d * 100,5)) + \"%\")\n"
      ],
      "metadata": {
        "colab": {
          "base_uri": "https://localhost:8080/"
        },
        "id": "m1E6LtnXCrbb",
        "outputId": "55d601d1-56bd-4b40-9899-2d15164f9f6a"
      },
      "execution_count": 11,
      "outputs": [
        {
          "output_type": "stream",
          "name": "stdout",
          "text": [
            "Average Daily Simple Rate of Return: 0.10792%\n"
          ]
        }
      ]
    },
    {
      "cell_type": "markdown",
      "source": [
        "### 03. Average Annual Simple Rate of Return"
      ],
      "metadata": {
        "id": "WBHIKN4FFEbj"
      }
    },
    {
      "cell_type": "code",
      "source": [
        "avg_return_a = AMZN['simple_return'].mean() * 250\n",
        "print(\"Average Annaul Simple Rate of Return: \" + str(round(avg_return_a * 100,5)) + \"%\")"
      ],
      "metadata": {
        "colab": {
          "base_uri": "https://localhost:8080/"
        },
        "id": "KNxjwqj6FNlO",
        "outputId": "e19419d0-8bd1-4f38-b67b-abaeb43f75cf"
      },
      "execution_count": 12,
      "outputs": [
        {
          "output_type": "stream",
          "name": "stdout",
          "text": [
            "Average Annaul Simple Rate of Return: 26.97926%\n"
          ]
        }
      ]
    },
    {
      "cell_type": "markdown",
      "source": [
        "## Daily Logarithmic Rate of Returns / Daily Log Returns\n",
        "\n",
        "$Log\\;Return = ln(\\frac{P_t}{P_0})$"
      ],
      "metadata": {
        "id": "vm3Ap2NcJk21"
      }
    },
    {
      "cell_type": "markdown",
      "source": [
        "They are a better choice when we have only one security and we want to calculate the return over multiple time periods"
      ],
      "metadata": {
        "id": "P_j-S0TeRNH8"
      }
    },
    {
      "cell_type": "code",
      "source": [
        "'''\n",
        "returns the historical price data of a company, including the percentage daily \n",
        "change, daily log return\n",
        "'''\n",
        "def log_return(ticket,data_source,start_year):\n",
        "  info = wb.DataReader(ticket,data_source,start = start_year)\n",
        "  info['log_return'] = np.log((info['Adj Close'] / info['Adj Close'].shift(1)))\n",
        "  return info"
      ],
      "metadata": {
        "id": "46jyBSf4Pki6"
      },
      "execution_count": 13,
      "outputs": []
    },
    {
      "cell_type": "code",
      "source": [
        "AMZN_ = log_return('AMZN','yahoo','2010')"
      ],
      "metadata": {
        "id": "UmBEln3ARyIA"
      },
      "execution_count": 14,
      "outputs": []
    },
    {
      "cell_type": "code",
      "source": [
        "AMZN_.describe()"
      ],
      "metadata": {
        "colab": {
          "base_uri": "https://localhost:8080/",
          "height": 300
        },
        "id": "Y97t7kA5R6SQ",
        "outputId": "ee090d59-e087-4d7e-fc81-607f200e32a8"
      },
      "execution_count": 15,
      "outputs": [
        {
          "output_type": "execute_result",
          "data": {
            "text/plain": [
              "              High          Low         Open        Close        Volume  \\\n",
              "count  3134.000000  3134.000000  3134.000000  3134.000000  3.134000e+03   \n",
              "mean     57.205789    55.890815    56.587449    56.557587  8.914266e+07   \n",
              "std      54.605184    53.285811    53.989015    53.932294  5.377967e+07   \n",
              "min       5.564500     5.290000     5.296500     5.430500  1.616809e+07   \n",
              "25%      13.188875    12.896250    13.066250    13.044625  5.633450e+07   \n",
              "50%      33.469250    32.849501    33.178251    33.148500  7.530100e+07   \n",
              "75%      90.921999    89.212627    90.050375    90.037750  1.050725e+08   \n",
              "max     188.654007   184.839493   187.199997   186.570496  8.484220e+08   \n",
              "\n",
              "         Adj Close   log_return  \n",
              "count  3134.000000  3133.000000  \n",
              "mean     56.557587     0.000873  \n",
              "std      53.932294     0.020291  \n",
              "min       5.430500    -0.151398  \n",
              "25%      13.044625    -0.008752  \n",
              "50%      33.148500     0.000974  \n",
              "75%      90.037750     0.011407  \n",
              "max     186.570496     0.146225  "
            ],
            "text/html": [
              "\n",
              "  <div id=\"df-0907a256-e922-4669-bd3c-0c4280a4a18d\">\n",
              "    <div class=\"colab-df-container\">\n",
              "      <div>\n",
              "<style scoped>\n",
              "    .dataframe tbody tr th:only-of-type {\n",
              "        vertical-align: middle;\n",
              "    }\n",
              "\n",
              "    .dataframe tbody tr th {\n",
              "        vertical-align: top;\n",
              "    }\n",
              "\n",
              "    .dataframe thead th {\n",
              "        text-align: right;\n",
              "    }\n",
              "</style>\n",
              "<table border=\"1\" class=\"dataframe\">\n",
              "  <thead>\n",
              "    <tr style=\"text-align: right;\">\n",
              "      <th></th>\n",
              "      <th>High</th>\n",
              "      <th>Low</th>\n",
              "      <th>Open</th>\n",
              "      <th>Close</th>\n",
              "      <th>Volume</th>\n",
              "      <th>Adj Close</th>\n",
              "      <th>log_return</th>\n",
              "    </tr>\n",
              "  </thead>\n",
              "  <tbody>\n",
              "    <tr>\n",
              "      <th>count</th>\n",
              "      <td>3134.000000</td>\n",
              "      <td>3134.000000</td>\n",
              "      <td>3134.000000</td>\n",
              "      <td>3134.000000</td>\n",
              "      <td>3.134000e+03</td>\n",
              "      <td>3134.000000</td>\n",
              "      <td>3133.000000</td>\n",
              "    </tr>\n",
              "    <tr>\n",
              "      <th>mean</th>\n",
              "      <td>57.205789</td>\n",
              "      <td>55.890815</td>\n",
              "      <td>56.587449</td>\n",
              "      <td>56.557587</td>\n",
              "      <td>8.914266e+07</td>\n",
              "      <td>56.557587</td>\n",
              "      <td>0.000873</td>\n",
              "    </tr>\n",
              "    <tr>\n",
              "      <th>std</th>\n",
              "      <td>54.605184</td>\n",
              "      <td>53.285811</td>\n",
              "      <td>53.989015</td>\n",
              "      <td>53.932294</td>\n",
              "      <td>5.377967e+07</td>\n",
              "      <td>53.932294</td>\n",
              "      <td>0.020291</td>\n",
              "    </tr>\n",
              "    <tr>\n",
              "      <th>min</th>\n",
              "      <td>5.564500</td>\n",
              "      <td>5.290000</td>\n",
              "      <td>5.296500</td>\n",
              "      <td>5.430500</td>\n",
              "      <td>1.616809e+07</td>\n",
              "      <td>5.430500</td>\n",
              "      <td>-0.151398</td>\n",
              "    </tr>\n",
              "    <tr>\n",
              "      <th>25%</th>\n",
              "      <td>13.188875</td>\n",
              "      <td>12.896250</td>\n",
              "      <td>13.066250</td>\n",
              "      <td>13.044625</td>\n",
              "      <td>5.633450e+07</td>\n",
              "      <td>13.044625</td>\n",
              "      <td>-0.008752</td>\n",
              "    </tr>\n",
              "    <tr>\n",
              "      <th>50%</th>\n",
              "      <td>33.469250</td>\n",
              "      <td>32.849501</td>\n",
              "      <td>33.178251</td>\n",
              "      <td>33.148500</td>\n",
              "      <td>7.530100e+07</td>\n",
              "      <td>33.148500</td>\n",
              "      <td>0.000974</td>\n",
              "    </tr>\n",
              "    <tr>\n",
              "      <th>75%</th>\n",
              "      <td>90.921999</td>\n",
              "      <td>89.212627</td>\n",
              "      <td>90.050375</td>\n",
              "      <td>90.037750</td>\n",
              "      <td>1.050725e+08</td>\n",
              "      <td>90.037750</td>\n",
              "      <td>0.011407</td>\n",
              "    </tr>\n",
              "    <tr>\n",
              "      <th>max</th>\n",
              "      <td>188.654007</td>\n",
              "      <td>184.839493</td>\n",
              "      <td>187.199997</td>\n",
              "      <td>186.570496</td>\n",
              "      <td>8.484220e+08</td>\n",
              "      <td>186.570496</td>\n",
              "      <td>0.146225</td>\n",
              "    </tr>\n",
              "  </tbody>\n",
              "</table>\n",
              "</div>\n",
              "      <button class=\"colab-df-convert\" onclick=\"convertToInteractive('df-0907a256-e922-4669-bd3c-0c4280a4a18d')\"\n",
              "              title=\"Convert this dataframe to an interactive table.\"\n",
              "              style=\"display:none;\">\n",
              "        \n",
              "  <svg xmlns=\"http://www.w3.org/2000/svg\" height=\"24px\"viewBox=\"0 0 24 24\"\n",
              "       width=\"24px\">\n",
              "    <path d=\"M0 0h24v24H0V0z\" fill=\"none\"/>\n",
              "    <path d=\"M18.56 5.44l.94 2.06.94-2.06 2.06-.94-2.06-.94-.94-2.06-.94 2.06-2.06.94zm-11 1L8.5 8.5l.94-2.06 2.06-.94-2.06-.94L8.5 2.5l-.94 2.06-2.06.94zm10 10l.94 2.06.94-2.06 2.06-.94-2.06-.94-.94-2.06-.94 2.06-2.06.94z\"/><path d=\"M17.41 7.96l-1.37-1.37c-.4-.4-.92-.59-1.43-.59-.52 0-1.04.2-1.43.59L10.3 9.45l-7.72 7.72c-.78.78-.78 2.05 0 2.83L4 21.41c.39.39.9.59 1.41.59.51 0 1.02-.2 1.41-.59l7.78-7.78 2.81-2.81c.8-.78.8-2.07 0-2.86zM5.41 20L4 18.59l7.72-7.72 1.47 1.35L5.41 20z\"/>\n",
              "  </svg>\n",
              "      </button>\n",
              "      \n",
              "  <style>\n",
              "    .colab-df-container {\n",
              "      display:flex;\n",
              "      flex-wrap:wrap;\n",
              "      gap: 12px;\n",
              "    }\n",
              "\n",
              "    .colab-df-convert {\n",
              "      background-color: #E8F0FE;\n",
              "      border: none;\n",
              "      border-radius: 50%;\n",
              "      cursor: pointer;\n",
              "      display: none;\n",
              "      fill: #1967D2;\n",
              "      height: 32px;\n",
              "      padding: 0 0 0 0;\n",
              "      width: 32px;\n",
              "    }\n",
              "\n",
              "    .colab-df-convert:hover {\n",
              "      background-color: #E2EBFA;\n",
              "      box-shadow: 0px 1px 2px rgba(60, 64, 67, 0.3), 0px 1px 3px 1px rgba(60, 64, 67, 0.15);\n",
              "      fill: #174EA6;\n",
              "    }\n",
              "\n",
              "    [theme=dark] .colab-df-convert {\n",
              "      background-color: #3B4455;\n",
              "      fill: #D2E3FC;\n",
              "    }\n",
              "\n",
              "    [theme=dark] .colab-df-convert:hover {\n",
              "      background-color: #434B5C;\n",
              "      box-shadow: 0px 1px 3px 1px rgba(0, 0, 0, 0.15);\n",
              "      filter: drop-shadow(0px 1px 2px rgba(0, 0, 0, 0.3));\n",
              "      fill: #FFFFFF;\n",
              "    }\n",
              "  </style>\n",
              "\n",
              "      <script>\n",
              "        const buttonEl =\n",
              "          document.querySelector('#df-0907a256-e922-4669-bd3c-0c4280a4a18d button.colab-df-convert');\n",
              "        buttonEl.style.display =\n",
              "          google.colab.kernel.accessAllowed ? 'block' : 'none';\n",
              "\n",
              "        async function convertToInteractive(key) {\n",
              "          const element = document.querySelector('#df-0907a256-e922-4669-bd3c-0c4280a4a18d');\n",
              "          const dataTable =\n",
              "            await google.colab.kernel.invokeFunction('convertToInteractive',\n",
              "                                                     [key], {});\n",
              "          if (!dataTable) return;\n",
              "\n",
              "          const docLinkHtml = 'Like what you see? Visit the ' +\n",
              "            '<a target=\"_blank\" href=https://colab.research.google.com/notebooks/data_table.ipynb>data table notebook</a>'\n",
              "            + ' to learn more about interactive tables.';\n",
              "          element.innerHTML = '';\n",
              "          dataTable['output_type'] = 'display_data';\n",
              "          await google.colab.output.renderOutput(dataTable, element);\n",
              "          const docLink = document.createElement('div');\n",
              "          docLink.innerHTML = docLinkHtml;\n",
              "          element.appendChild(docLink);\n",
              "        }\n",
              "      </script>\n",
              "    </div>\n",
              "  </div>\n",
              "  "
            ]
          },
          "metadata": {},
          "execution_count": 15
        }
      ]
    },
    {
      "cell_type": "markdown",
      "source": [
        "### 01. Plot Daily Log Rate of Returns"
      ],
      "metadata": {
        "id": "451Fl6ZaSFIo"
      }
    },
    {
      "cell_type": "code",
      "source": [
        "AMZN_['log_return'].plot(figsize=(8,5))\n",
        "plt.show()"
      ],
      "metadata": {
        "colab": {
          "base_uri": "https://localhost:8080/",
          "height": 318
        },
        "id": "Tpsk0lYDUC3z",
        "outputId": "aa93cba1-bc1d-47ed-cd6d-39e0ceaa1653"
      },
      "execution_count": 16,
      "outputs": [
        {
          "output_type": "display_data",
          "data": {
            "text/plain": [
              "<Figure size 576x360 with 1 Axes>"
            ],
            "image/png": "[encoded data removed]"
          },
          "metadata": {
            "needs_background": "light"
          }
        }
      ]
    },
    {
      "cell_type": "markdown",
      "source": [
        "### 02. Average Daily Log Rate of Returns"
      ],
      "metadata": {
        "id": "higcmQsyUVgV"
      }
    },
    {
      "cell_type": "code",
      "source": [
        "avg_log_return_d = AMZN_.log_return.mean()\n",
        "print(\"Average Daily Log Return: \" + str(round(avg_log_return_d * 100,5)) + \"%\")\n"
      ],
      "metadata": {
        "colab": {
          "base_uri": "https://localhost:8080/"
        },
        "id": "H0r5m79kUaRy",
        "outputId": "12d538b1-66fd-4940-dbe4-91561e69cbd8"
      },
      "execution_count": 17,
      "outputs": [
        {
          "output_type": "stream",
          "name": "stdout",
          "text": [
            "Average Daily Log Return: 0.08725%\n"
          ]
        }
      ]
    },
    {
      "cell_type": "markdown",
      "source": [
        "### 03. Average Annual Log Rate of Return"
      ],
      "metadata": {
        "id": "GOlswdlBUp2m"
      }
    },
    {
      "cell_type": "code",
      "source": [
        "avg_log_return_a = AMZN_.log_return.mean()*250\n",
        "print(\"Average Annual Log Return: \" + str(round(avg_log_return_a * 100,5)) + \"%\")"
      ],
      "metadata": {
        "colab": {
          "base_uri": "https://localhost:8080/"
        },
        "id": "VaY2il37Uu0F",
        "outputId": "0718efb5-96be-4920-906c-1ddef5cf781f"
      },
      "execution_count": 18,
      "outputs": [
        {
          "output_type": "stream",
          "name": "stdout",
          "text": [
            "Average Annual Log Return: 21.81374%\n"
          ]
        }
      ]
    },
    {
      "cell_type": "code",
      "source": [
        "(1 + avg_log_return_d)**250"
      ],
      "metadata": {
        "colab": {
          "base_uri": "https://localhost:8080/"
        },
        "id": "KjkCyMKqVOE2",
        "outputId": "09a1a149-cb72-4353-cc8d-c868ce52bbb7"
      },
      "execution_count": 19,
      "outputs": [
        {
          "output_type": "execute_result",
          "data": {
            "text/plain": [
              "1.243639666412183"
            ]
          },
          "metadata": {},
          "execution_count": 19
        }
      ]
    }
  ]
}