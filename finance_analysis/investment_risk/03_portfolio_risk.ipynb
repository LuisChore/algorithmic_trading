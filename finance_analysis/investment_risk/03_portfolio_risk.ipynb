{
  "nbformat": 4,
  "nbformat_minor": 0,
  "metadata": {
    "colab": {
      "name": "03_portfolio_risk.ipynb",
      "provenance": [],
      "toc_visible": true,
      "authorship_tag": "ABX9TyO9AjHc05qfzo1pW504vnBf",
      "include_colab_link": true
    },
    "kernelspec": {
      "name": "python3",
      "display_name": "Python 3"
    },
    "language_info": {
      "name": "python"
    }
  },
  "cells": [
    {
      "cell_type": "markdown",
      "metadata": {
        "id": "view-in-github",
        "colab_type": "text"
      },
      "source": [
        "<a href=\"https://colab.research.google.com/github/LuisChore/algorithmic_trading/blob/main/finance_analysis/investment_risk/03_portfolio_risk.ipynb\" target=\"_parent\"><img src=\"https://colab.research.google.com/assets/colab-badge.svg\" alt=\"Open In Colab\"/></a>"
      ]
    },
    {
      "cell_type": "markdown",
      "source": [
        "# Portfolio Variance (N stocks)\n",
        "\n",
        "The variability of a portfolio\n"
      ],
      "metadata": {
        "id": "uCqXQCHIQsiv"
      }
    },
    {
      "cell_type": "markdown",
      "source": [
        "## 01. Portfolio Variance (Math)\n",
        "\n",
        "* $w_i$, weight of the $i_{th}$ stock\n",
        "\n",
        "* $\\sigma_i$, standard deviation of the return of the $i_{th}$ stock\n",
        "\n",
        "* $\\rho_{ij}$, correlation between the returns of the $i_{th}$ and $j_{th}$ stocks\n",
        "\n",
        "* $\\rho_{ij} = \\frac{cov(i,j)}{\\sigma_i \\sigma_j}$\n",
        "\n",
        "\n",
        "**$Portfolio\\;Variance = \\sum_{i=1}^N \\sum_{j=1}^N w_i w_j \\sigma_i \\sigma_j \\rho_{ij}$**\n",
        "\n",
        "* if $i = j$, →  $w_i^2 \\sigma_i^2  = w_i^2 cov(i,i)$\n",
        "  * these parts of the **portfolio variance** represent the **SYSTEMATIC RISK** (undiversifiable  risk that cannot be eliminated)\n",
        "\n",
        "* if $i \\neq j$, →  $w_i w_j \\sigma_i \\sigma_j \\rho_{i,j}  = w_i w_j cov(i,j)$\n",
        "  * (these parts represent the **IDIOSYNCRATIC RISK** (diversifiable, in a diversifiable portfolio it will dissapear)\n",
        "\n"
      ],
      "metadata": {
        "id": "UfwnbyFMVN-F"
      }
    },
    {
      "cell_type": "markdown",
      "source": [
        "## 01. Portfolio Variance (Python)\n"
      ],
      "metadata": {
        "id": "fkgVMFZPU78s"
      }
    },
    {
      "cell_type": "markdown",
      "source": [
        "* $W$, Array of weights of the stock in a portfolio $[w_1,w_2, \\cdots , w_N]$\n",
        "\n",
        "* $Cov$, $ Covariance\\;Matrix = \\begin{bmatrix}\n",
        "\\sigma_1 ^{2} & \\sigma_{1,2} ^{2} & \\cdots  &\\sigma_{1,I} ^{2}  \\\\\n",
        "\\sigma_{2,1} ^{2}&\\sigma_2 ^{2}  & \\cdots & \\sigma_{2,I} ^{2} \\\\\n",
        "\\vdots  & \\vdots & \\ddots  &  \\\\\n",
        " \\sigma_{I,1} ^{2}&\\sigma_{I,2} ^{2}  &  & \\sigma_{I} ^{2} \\\\\n",
        "\\end{bmatrix} $\n",
        "\n",
        "\n",
        "$Portfolio\\;Variance = (W\\cdot Cov)^2 = W^T \\cdot Cov \\cdot W$\n"
      ],
      "metadata": {
        "id": "H65GYV-JVjyk"
      }
    },
    {
      "cell_type": "code",
      "source": [
        "!pip install --upgrade pandas\n",
        "!pip install --upgrade pandas-datareader"
      ],
      "metadata": {
        "id": "EOYgVVz1ptxg"
      },
      "execution_count": null,
      "outputs": []
    },
    {
      "cell_type": "code",
      "execution_count": 2,
      "metadata": {
        "id": "9ueFptVnjpkp"
      },
      "outputs": [],
      "source": [
        "import numpy as np\n",
        "import pandas as pd\n",
        "import pandas_datareader.data as wb\n",
        "import matplotlib.pyplot as plt "
      ]
    },
    {
      "cell_type": "code",
      "source": [
        "'''\n",
        "returns the historical price data of a company, including the percentage daily \n",
        "change, daily log return\n",
        "'''\n",
        "def log_return(ticket,data_source,start_year):\n",
        "  info = wb.DataReader(ticket,data_source,start = start_year)\n",
        "  info['log_return'] = np.log((info['Adj Close'] / info['Adj Close'].shift(1)))\n",
        "  return info"
      ],
      "metadata": {
        "id": "QaqX54i-k6Sw"
      },
      "execution_count": 3,
      "outputs": []
    },
    {
      "cell_type": "code",
      "execution_count": 4,
      "metadata": {
        "id": "cNKRANoKh1YI"
      },
      "outputs": [],
      "source": [
        "'''\n",
        "Calculates the ANNUAL COVARIANCE MATRIX of different tickets using the \n",
        "logarithmic rate of returns\n",
        "@TODO: check that all the companies have the same amount of returns              \n",
        "'''\n",
        "def annual_cov_matrix(tickets,start_year):\n",
        "  data = pd.DataFrame()\n",
        "  for ticket in tickets:\n",
        "    data[ticket] = log_return(ticket,'yahoo',start_year)['log_return']\n",
        "  cov_matrix = data.cov() * 250 #annualizing \n",
        "  return cov_matrix\n"
      ]
    },
    {
      "cell_type": "markdown",
      "source": [
        "## Portfolio Risk / Portfolio Volatility"
      ],
      "metadata": {
        "id": "5v8w3t8sXf-P"
      }
    },
    {
      "cell_type": "code",
      "source": [
        "\n",
        "def portfolio_volatility(tickets,weights,start_year):\n",
        "  #portfolio variance\n",
        "  variance = np.dot(weights.T,np.dot(annual_cov_matrix(tickets,start_year),weights))\n",
        "  #portfolio volatility\n",
        "  volatility = (variance)**0.5\n",
        "  return volatility"
      ],
      "metadata": {
        "id": "Ptp8qBfpXpUf"
      },
      "execution_count": 5,
      "outputs": []
    },
    {
      "cell_type": "code",
      "source": [
        "tickets = ['PG','BEI.DE']\n",
        "weights = np.array([0.5,0.5])\n",
        "start_year = 2007\n",
        "vol = portfolio_volatility(tickets,weights,start_year)\n",
        "print(\"Portfolio Volatility: \" + str(round(vol,5)*100) + \"%\")"
      ],
      "metadata": {
        "colab": {
          "base_uri": "https://localhost:8080/"
        },
        "id": "Dnx-fqVUYsNF",
        "outputId": "08b44401-8507-43bf-89aa-44cd446b7098"
      },
      "execution_count": 6,
      "outputs": [
        {
          "output_type": "stream",
          "name": "stdout",
          "text": [
            "Portfolio Volatility: 16.083%\n"
          ]
        }
      ]
    }
  ]
}